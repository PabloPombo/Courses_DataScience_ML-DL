{
 "cells": [
  {
   "cell_type": "markdown",
   "metadata": {},
   "source": [
    "# Phyton"
   ]
  },
  {
   "cell_type": "markdown",
   "metadata": {},
   "source": [
    "# Hello,Phyton"
   ]
  },
  {
   "cell_type": "code",
   "execution_count": 6,
   "metadata": {},
   "outputs": [],
   "source": [
    "#string\n",
    "color = \"blue\"\n",
    "\n",
    "#area of a circle\n",
    "pi = 3.14159 \n",
    "diameter = 3\n",
    "radius = diameter/2\n",
    "area = pi*(radius**2)\n",
    "\n",
    "#swap the values\n",
    "a = [1, 2, 3]\n",
    "b = [3, 2, 1]\n",
    "c = b\n",
    "b = a\n",
    "a = c\n",
    "\n",
    "(5 - 3) // 2 # => 1\n",
    "8 - 3 * 2 - (1 + 1) # => 0\n",
    "\n",
    "alice_candies = 121\n",
    "bob_candies = 77\n",
    "carol_candies = 109\n",
    "to_smash = (alice_candies + bob_candies + carol_candies) % 3"
   ]
  },
  {
   "cell_type": "markdown",
   "metadata": {},
   "source": [
    "# Functions and Getting Help"
   ]
  },
  {
   "cell_type": "code",
   "execution_count": 12,
   "metadata": {},
   "outputs": [
    {
     "name": "stdout",
     "output_type": "stream",
     "text": [
      "Help on built-in function round in module builtins:\n",
      "\n",
      "round(number, ndigits=None)\n",
      "    Round a number to a given precision in decimal digits.\n",
      "    \n",
      "    The return value is an integer if ndigits is omitted or None.  Otherwise\n",
      "    the return value has the same type as the number.  ndigits may be negative.\n",
      "\n",
      "5\n"
     ]
    }
   ],
   "source": [
    "#help \n",
    "help(round)\n",
    "\n",
    "def round_to_two_places(num):\n",
    "    return round(num,2)\n",
    "\n",
    "def to_smash(total_candies, total_friends=3): # if they font give an argument it will take the number 3\n",
    "    return total_candies % total_friends\n",
    "\n",
    "x = -10\n",
    "y = 5\n",
    "#Which of the two variables above has the smallest absolute value?\n",
    "smallest_abs = min(abs(x), abs(y))\n",
    "smallest_abs\n",
    "\n",
    "def f(x):\n",
    "    y = abs(x)\n",
    "    return (y)\n",
    "print(f(5))"
   ]
  },
  {
   "cell_type": "markdown",
   "metadata": {},
   "source": [
    "# Booleans"
   ]
  },
  {
   "cell_type": "code",
   "execution_count": 18,
   "metadata": {},
   "outputs": [
    {
     "name": "stdout",
     "output_type": "stream",
     "text": [
      "Splitting 91 candies\n",
      "Splitting 1 candy\n",
      "False\n"
     ]
    }
   ],
   "source": [
    "def sign (num):\n",
    "    if num < 0 :\n",
    "        return -1\n",
    "    elif num > 0:\n",
    "        return 1\n",
    "    elif num == 0:\n",
    "        return 0\n",
    "\n",
    "def to_smash(total_candies):\n",
    "    if total_candies == 1:\n",
    "        print(\"Splitting 1 candy\")\n",
    "    else:\n",
    "        print(\"Splitting\", total_candies, \"candies\")\n",
    "    \n",
    "    return total_candies % 3\n",
    "\n",
    "to_smash(91)\n",
    "to_smash(1)\n",
    "\n",
    "def prepared_for_weather(have_umbrella, rain_level, have_hood, is_workday):\n",
    "    # Don't change this code. Our goal is just to find the bug, not fix it!\n",
    "    return have_umbrella or rain_level < 5 and have_hood or not rain_level > 0 and is_workday\n",
    "\n",
    "have_umbrella = False\n",
    "rain_level = 0.0\n",
    "have_hood = False\n",
    "is_workday = False\n",
    "\n",
    "# Check what the function returns given the current values of the variables above\n",
    "actual = prepared_for_weather(have_umbrella, rain_level, have_hood, is_workday)\n",
    "print(actual)\n",
    "\n",
    "def is_negative(number):\n",
    "    if number < 0:\n",
    "        return True\n",
    "    else:\n",
    "        return False\n",
    "def concise_is_negative(number):\n",
    "    return (True if number < 0 else False)\n",
    "\n",
    "def wants_all_toppings(ketchup, mustard, onion):\n",
    "    \"\"\"Return whether the customer wants \"the works\" (all 3 toppings)\n",
    "    \"\"\"\n",
    "    return ketchup and mustard and onion\n",
    "def wants_plain_hotdog(ketchup, mustard, onion):\n",
    "    \"\"\"Return whether the customer wants a plain hot dog with no toppings.\n",
    "    \"\"\"\n",
    "    return not (ketchup or mustard or onion)\n",
    "def exactly_one_sauce(ketchup, mustard, onion):\n",
    "    \"\"\"Return whether the customer wants either ketchup or mustard, but not both.\n",
    "    (You may be familiar with this operation under the name \"exclusive or\")\n",
    "    \"\"\"\n",
    "    return (ketchup and not mustard) or (mustard and not ketchup)\n",
    "def exactly_one_topping(ketchup, mustard, onion):\n",
    "    \"\"\"Return whether the customer wants exactly one of the three available toppings\n",
    "    on their hot dog.\n",
    "    \"\"\"\n",
    "    return (ketchup and not mustard and not onion) or (mustard and not ketchup and not onion) or (onion and not ketchup and not mustard)\n"
   ]
  },
  {
   "cell_type": "markdown",
   "metadata": {},
   "source": [
    "# Lists"
   ]
  },
  {
   "cell_type": "code",
   "execution_count": 21,
   "metadata": {},
   "outputs": [
    {
     "name": "stdout",
     "output_type": "stream",
     "text": [
      "12.0 3.0\n",
      "(1, 8)\n"
     ]
    }
   ],
   "source": [
    "c = 12 +3j\n",
    "print(c.real, c.imag)\n",
    "\n",
    "x = 0.125\n",
    "print(x.as_integer_ratio())\n",
    "\n",
    "x = 12\n",
    "x.bit_length()\n",
    "\n",
    "def select_second(L):\n",
    "    \"\"\"Return the second element of the given list. If the list has no second\n",
    "    element, return None.\n",
    "    \"\"\"\n",
    "    if len(L) < 2:\n",
    "        return None\n",
    "    else:\n",
    "        return L[1]\n",
    "\n",
    "def losing_team_captain(teams):\n",
    "    \"\"\"Given a list of teams, where each team is a list of names, return the 2nd player (captain)\n",
    "    from the last listed team\n",
    "    \"\"\"\n",
    "    last_team = teams[-1]\n",
    "    second_player = last_team[1]\n",
    "    return second_player\n",
    "\n",
    "def purple_shell(racers):\n",
    "    \"\"\"Given a list of racers, set the first place racer (at the front of the list) to last\n",
    "    place and vice versa.\n",
    "    >>> r = [\"Mario\", \"Bowser\", \"Luigi\"]\n",
    "    >>> purple_shell(r)\n",
    "    >>> r\n",
    "    [\"Luigi\", \"Bowser\", \"Mario\"]\n",
    "    \"\"\"\n",
    "    #racers =  list(reversed(racers))  \n",
    "    temp = racers[0]\n",
    "    racers[0] = racers[-1]\n",
    "    racers[-1] = temp\n",
    "    \n",
    "def fashionably_late(arrivals, name):\n",
    "    \"\"\"Given an ordered list of arrivals to the party and a name, return whether the guest with that\n",
    "    name was fashionably late.\n",
    "    \"\"\"\n",
    "    #gest = arrivals.index(name)\n",
    "    #if len(arrivals)/2 >= gest:\n",
    "    #    return False\n",
    "    #else:\n",
    "    #    return True \n",
    "    order = arrivals.index(name)\n",
    "    return order >= len(arrivals) / 2 and order != len(arrivals) - 1"
   ]
  },
  {
   "cell_type": "markdown",
   "metadata": {},
   "source": [
    "# Loops and Lists Comprehensions"
   ]
  },
  {
   "cell_type": "code",
   "execution_count": null,
   "metadata": {},
   "outputs": [],
   "source": [
    "def has_lucky_number(nums):\n",
    "    \"\"\"Return whether the given list of numbers is lucky. A lucky list contains\n",
    "    at least one number divisible by 7.\n",
    "    \"\"\"\n",
    "    for num in nums:\n",
    "        if num % 7 == 0:\n",
    "            return True        \n",
    "    return False\n",
    "\n",
    "def elementwise_greater_than(L, thresh):\n",
    "    \"\"\"Return a list with the same length as L, where the value at index i is \n",
    "    True if L[i] is greater than thresh, and False otherwise.\n",
    "    \n",
    "    >>> elementwise_greater_than([1, 2, 3, 4], 2)\n",
    "    [False, False, True, True]\n",
    "    \"\"\"\n",
    "    list1 = list()\n",
    "    for i in L:\n",
    "        if i > thresh:\n",
    "            list1.append(True)\n",
    "        else:\n",
    "            list1.append(False)\n",
    "            \n",
    "    return list1\n",
    "\n",
    "def menu_is_boring(meals):\n",
    "    \"\"\"Given a list of meals served over some period of time, return True if the\n",
    "    same meal has ever been served two days in a row, and False otherwise.\n",
    "    \"\"\"\n",
    "    #meals2 = []\n",
    "    #for i in meals:\n",
    "    #    if i in meals2:\n",
    "    #        return True\n",
    "    #    else:\n",
    "    #        meals2.append(i)\n",
    "    #return False\n",
    "    for i in range(len(meals)-1):\n",
    "        if meals[i] == meals[i+1]:\n",
    "            return True\n",
    "    return False"
   ]
  },
  {
   "cell_type": "markdown",
   "metadata": {},
   "source": [
    "# Strings and Dictionaries"
   ]
  },
  {
   "cell_type": "code",
   "execution_count": 100,
   "metadata": {},
   "outputs": [
    {
     "data": {
      "text/plain": [
       "{'casino': [0], 'ear': []}"
      ]
     },
     "execution_count": 100,
     "metadata": {},
     "output_type": "execute_result"
    }
   ],
   "source": [
    "def is_valid_zip(zip_code):\n",
    "    \"\"\"Returns whether the input string is a valid (5 digit) zip code\n",
    "    \"\"\"\n",
    "    if len(zip_code) == 5 and zip_code.isdigit(): # check that it has digits\n",
    "        return True\n",
    "    else:\n",
    "        return False\n",
    "\n",
    "def word_search(doc_list, keyword):\n",
    "    \"\"\"\n",
    "    Takes a list of documents (each document is a string) and a keyword. \n",
    "    Returns list of the index values into the original list for all documents \n",
    "    containing the keyword.\n",
    "    Example:\n",
    "    doc_list = [\"The Learn Python Challenge Casino.\", \"They bought a car\", \"Casinoville\"]\n",
    "    >>> word_search(doc_list, 'casino')\n",
    "    >>> [0]\n",
    "    \"\"\"\n",
    "    #l = []\n",
    "    #for i in range(len(doc_list)):\n",
    "    #    a = doc_list[i].split()\n",
    "    #    b = [c.rstrip('.,?').lower() for c in a]\n",
    "    #    print(b)\n",
    "    #    for j in range(len(b)):\n",
    "    #        if b[j] == keyword[0].lower():\n",
    "    #            l.append(i)\n",
    "    #            print(l)\n",
    "    #            return l\n",
    "    # list to hold the indices of matching documents\n",
    "    \n",
    "    indices = [] \n",
    "    # Iterate through the indices (i) and elements (doc) of documents\n",
    "    for i, doc in enumerate(doc_list):\n",
    "        # Split the string doc into a list of words (according to whitespace)\n",
    "        tokens = doc.split()\n",
    "        # Make a transformed list where we 'normalize' each word to facilitate matching.\n",
    "        # Periods and commas are removed from the end of each word, and it's set to all lowercase.\n",
    "        normalized = [token.rstrip('.,').lower() for token in tokens]\n",
    "        # Is there a match? If so, update the list of matching indices.\n",
    "        if keyword.lower() in normalized:\n",
    "            indices.append(i)\n",
    "    return indices\n",
    "\n",
    "doc_list = ['The Learn Python Challenge Casino', 'They bought a car', 'Casinoville?']\n",
    "keywords = ['casino','ear']\n",
    "\n",
    "def word_search(doc_list, keyword):    \n",
    "    dic = {} #create a dictionary\n",
    "    \n",
    "    for i in keywords:\n",
    "        dic[i] =[] #the keys of the dictionary are the keywords\n",
    "    \n",
    "    for i in range(len(doc_list)):\n",
    "        a = doc_list[i].split() #split the list\n",
    "        b = [c.rstrip('.,?').lower() for c in a]#put them lower letters and remove all the ('.,?') signis\n",
    "        \n",
    "        for j in range(len(b)): #take each string of b \n",
    "            for k in range(len(keywords)): #see if each string is the same as the b strings\n",
    "                if b[j] == keywords[k].lower():\n",
    "                    dic[keywords[k]].append(i) #if the word is more than 1 time, the counter oincreases\n",
    "            \n",
    "    return dic\n",
    "\n",
    "\n",
    "word_search(doc_list, keyword)  "
   ]
  },
  {
   "cell_type": "markdown",
   "metadata": {},
   "source": [
    "# Working With External Libraries "
   ]
  },
  {
   "cell_type": "code",
   "execution_count": 147,
   "metadata": {},
   "outputs": [
    {
     "data": {
      "text/plain": [
       "\"\\n[{'name': 'Peach',\\n  'items': ['green shell', 'banana', 'green shell'],\\n  'finish': 3},\\n {'name': 'Peach',\\n  'items': ['green shell', 'banana', 'green shell'],\\n  'finish': 1},\\n {'name': 'Bowser', 'items': ['green shell'], 'finish': 1},\\n {'name': None, 'items': ['green shell'], 'finish': 2},\\n {'name': 'Bowser', 'items': ['green shell'], 'finish': 1},\\n {'name': None, 'items': ['red shell'], 'finish': 1},\\n {'name': 'Yoshi', 'items': ['banana', 'blue shell', 'banana'], 'finish': 7},\\n {'name': 'DK', 'items': ['blue shell', 'star'], 'finish': 1}]\\n\\n\""
      ]
     },
     "execution_count": 147,
     "metadata": {},
     "output_type": "execute_result"
    }
   ],
   "source": [
    "def best_items(racers):\n",
    "    winner_item_counts = {}\n",
    "    for i in range(len(racers)):\n",
    "        # The i'th racer dictionary\n",
    "        racer = racers[i]\n",
    "        # We're only interested in racers who finished in first\n",
    "        if racer['finish'] == 1:\n",
    "            for j in racer['items']:\n",
    "                # Add one to the count for this item (adding it to the dict if necessary)\n",
    "                if j not in winner_item_counts:\n",
    "                    winner_item_counts[j] = 0\n",
    "                winner_item_counts[j] += 1\n",
    "\n",
    "        # Data quality issues :/ Print a warning about racers with no name set. We'll take care of it later.\n",
    "        if racer['name'] is None:\n",
    "            print(\"WARNING: Encountered racer with unknown name on iteration {}/{} (racer = {})\".format(\n",
    "                i+1, len(racers), racer['name'])\n",
    "                 )\n",
    "    return winner_item_counts\n",
    "\n",
    "\"\"\"\n",
    "[{'name': 'Peach',\n",
    "  'items': ['green shell', 'banana', 'green shell'],\n",
    "  'finish': 3},\n",
    " {'name': 'Peach',\n",
    "  'items': ['green shell', 'banana', 'green shell'],\n",
    "  'finish': 1},\n",
    " {'name': 'Bowser', 'items': ['green shell'], 'finish': 1},\n",
    " {'name': None, 'items': ['green shell'], 'finish': 2},\n",
    " {'name': 'Bowser', 'items': ['green shell'], 'finish': 1},\n",
    " {'name': None, 'items': ['red shell'], 'finish': 1},\n",
    " {'name': 'Yoshi', 'items': ['banana', 'blue shell', 'banana'], 'finish': 7},\n",
    " {'name': 'DK', 'items': ['blue shell', 'star'], 'finish': 1}]\n",
    "\n",
    "\"\"\""
   ]
  },
  {
   "cell_type": "code",
   "execution_count": null,
   "metadata": {},
   "outputs": [],
   "source": [
    "def blackjack_hand_greater_than(hand_1, hand_2):\n",
    "    \"\"\"\n",
    "    Return True if hand_1 beats hand_2, and False otherwise.\n",
    "    \n",
    "    In order for hand_1 to beat hand_2 the following must be true:\n",
    "    - The total of hand_1 must not exceed 21\n",
    "    - The total of hand_1 must exceed the total of hand_2 OR hand_2's total must exceed 21\n",
    "    \n",
    "    Hands are represented as a list of cards. Each card is represented by a string.\n",
    "    \n",
    "    When adding up a hand's total, cards with numbers count for that many points. Face\n",
    "    cards ('J', 'Q', and 'K') are worth 10 points. 'A' can count for 1 or 11.\n",
    "    \n",
    "    When determining a hand's total, you should try to count aces in the way that \n",
    "    maximizes the hand's total without going over 21. e.g. the total of ['A', 'A', '9'] is 21,\n",
    "    the total of ['A', 'A', '9', '3'] is 14.\n",
    "    \n",
    "    Examples:\n",
    "    >>> blackjack_hand_greater_than(['K'], ['3', '4'])\n",
    "    True\n",
    "    >>> blackjack_hand_greater_than(['K'], ['10'])\n",
    "    False\n",
    "    >>> blackjack_hand_greater_than(['K', 'K', '2'], ['3'])\n",
    "    False\n",
    "    \"\"\"\n",
    "    dic = {'1':1, '2':2, '3':3, '4':4, '5':5, '6':6, '7':7, '8':8, '9':9, '10':10, 'J':10, 'Q':10, 'K':10} #create a ditionary\n",
    "    \n",
    "    #take the values of hand_1 and hand_2 and the dictionary\n",
    "    def value_hands (hand, dic):\n",
    "        ha = 0 \n",
    "        for key, value in dic.items(): #pass thougth all the keys of the dictionary \n",
    "            for i in hand: \n",
    "                if i == key: #check if one of the keys of the dictionary is the same as the value of hand\n",
    "                    ha = ha + value #if it equal, sum the value\n",
    "        return ha\n",
    "\n",
    "    hand1 = value_hands(hand_1,dic)\n",
    "    hand2 = value_hands(hand_2,dic)\n",
    "    \n",
    "    #take the value of han1 and hand2 and also hand_1 and hand_2\n",
    "    def detect_A (hand, hand_value):\n",
    "        for i in hand:\n",
    "            if i == 'A':#chek if in hand is and 'A'\n",
    "                if hand_value+11 > 21: #if it is an A and its value of 11 is going to be more that 21, sum only 1\n",
    "                    hand_value = hand_value + 1\n",
    "                else: # if the value of 11 will not be over than 21 , sum it \n",
    "                    hand_value = hand_value + 11\n",
    "        return hand_value \n",
    "    \n",
    "    hand11 = detect_A(hand_1, hand1)\n",
    "    hand22 = detect_A(hand_2, hand2)\n",
    "    \n",
    "    print(hand11, hand22)\n",
    "    \n",
    "    if hand22 > 21:\n",
    "        if hand11 > 21:\n",
    "            return False\n",
    "        else:\n",
    "            return True\n",
    "    \n",
    "    elif hand11 > hand22:\n",
    "        if hand11 > 21:\n",
    "            return False\n",
    "        else:\n",
    "            return True\n",
    "    else:\n",
    "            return False  \n",
    "    \n",
    "blackjack_hand_greater_than(['J', 'A',], ['6','8', 'A'])"
   ]
  },
  {
   "cell_type": "code",
   "execution_count": null,
   "metadata": {},
   "outputs": [],
   "source": []
  }
 ],
 "metadata": {
  "kernelspec": {
   "display_name": "Python 3 (ipykernel)",
   "language": "python",
   "name": "python3"
  },
  "language_info": {
   "codemirror_mode": {
    "name": "ipython",
    "version": 3
   },
   "file_extension": ".py",
   "mimetype": "text/x-python",
   "name": "python",
   "nbconvert_exporter": "python",
   "pygments_lexer": "ipython3",
   "version": "3.10.9"
  }
 },
 "nbformat": 4,
 "nbformat_minor": 4
}
