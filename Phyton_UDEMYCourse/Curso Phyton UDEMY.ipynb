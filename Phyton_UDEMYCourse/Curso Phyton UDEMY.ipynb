{
 "cells": [
  {
   "cell_type": "markdown",
   "metadata": {},
   "source": [
    "# Curso Phyton UDEMY"
   ]
  },
  {
   "cell_type": "markdown",
   "metadata": {},
   "source": [
    "### Sección 1"
   ]
  },
  {
   "cell_type": "code",
   "execution_count": 25,
   "metadata": {},
   "outputs": [
    {
     "name": "stdout",
     "output_type": "stream",
     "text": [
      "Me encanta estudiar Python\n"
     ]
    }
   ],
   "source": [
    "print(\"Me encanta estudiar Python\")"
   ]
  },
  {
   "cell_type": "code",
   "execution_count": 2,
   "metadata": {},
   "outputs": [
    {
     "name": "stdout",
     "output_type": "stream",
     "text": [
      "Estudiar con \"Python Total\" es super divertido\n"
     ]
    }
   ],
   "source": [
    "print('Estudiar con \"Python Total\" es super divertido')"
   ]
  },
  {
   "cell_type": "code",
   "execution_count": 3,
   "metadata": {},
   "outputs": [
    {
     "name": "stdout",
     "output_type": "stream",
     "text": [
      "555\n"
     ]
    }
   ],
   "source": [
    "print(500+55)"
   ]
  },
  {
   "cell_type": "code",
   "execution_count": 4,
   "metadata": {},
   "outputs": [
    {
     "name": "stdout",
     "output_type": "stream",
     "text": [
      "Línea 1\n",
      "Línea 2\n",
      "Línea 3\n"
     ]
    }
   ],
   "source": [
    "print('Línea 1\\nLínea 2\\nLínea 3')"
   ]
  },
  {
   "cell_type": "code",
   "execution_count": 5,
   "metadata": {},
   "outputs": [
    {
     "name": "stdout",
     "output_type": "stream",
     "text": [
      "A\tB\tC\n",
      "D\tE\tF\n",
      "G\tH\tI\n"
     ]
    }
   ],
   "source": [
    "print(\"A\\tB\\tC\")\n",
    "print(\"D\\tE\\tF\")\n",
    "print(\"G\\tH\\tI\")"
   ]
  },
  {
   "cell_type": "code",
   "execution_count": 9,
   "metadata": {},
   "outputs": [
    {
     "name": "stdout",
     "output_type": "stream",
     "text": [
      "Barra Normal: /\n",
      "Barra Invertida: \\ \n"
     ]
    }
   ],
   "source": [
    "print(\"Barra Normal: /\\nBarra Invertida: \\ \")\n"
   ]
  },
  {
   "cell_type": "code",
   "execution_count": 10,
   "metadata": {},
   "outputs": [
    {
     "name": "stdout",
     "output_type": "stream",
     "text": [
      "Barra Normal: /\n",
      "Barra Invertida: \\ \n"
     ]
    }
   ],
   "source": [
    "print(\"Barra Normal: /\\nBarra Invertida: \\ \")"
   ]
  },
  {
   "cell_type": "code",
   "execution_count": 11,
   "metadata": {},
   "outputs": [
    {
     "name": "stdout",
     "output_type": "stream",
     "text": [
      "input(¿Que estas haciendo?: )\n"
     ]
    }
   ],
   "source": [
    "print(\"input(¿Que estas haciendo?: )\")"
   ]
  },
  {
   "cell_type": "code",
   "execution_count": 12,
   "metadata": {},
   "outputs": [
    {
     "name": "stdout",
     "output_type": "stream",
     "text": [
      "¿Qué estás estudiando?: Mecatronica\n",
      "Mecatronica\n"
     ]
    }
   ],
   "source": [
    "print(input(\"¿Qué estás estudiando?\"))"
   ]
  },
  {
   "cell_type": "code",
   "execution_count": 13,
   "metadata": {},
   "outputs": [
    {
     "name": "stdout",
     "output_type": "stream",
     "text": [
      "¿En qué país vives?México\n",
      "México\n"
     ]
    }
   ],
   "source": [
    "print(input(\"¿En qué país vives?\"))"
   ]
  },
  {
   "cell_type": "code",
   "execution_count": 15,
   "metadata": {},
   "outputs": [
    {
     "name": "stdout",
     "output_type": "stream",
     "text": [
      "Escribe tu nombre:Pablo \n",
      "Escribe tu apellido:Pombo\n",
      "Pablo  Pombo\n"
     ]
    }
   ],
   "source": [
    "print(input(\"Escribe tu nombre:\") + \" \" + input(\"Escribe tu apellido:\"))"
   ]
  },
  {
   "cell_type": "markdown",
   "metadata": {},
   "source": [
    "##### PRACTICA 1"
   ]
  },
  {
   "cell_type": "code",
   "execution_count": 24,
   "metadata": {},
   "outputs": [
    {
     "name": "stdout",
     "output_type": "stream",
     "text": [
      "¿Cuál es tu animal favorito? pe\n",
      "¿Cuál es tu segundo animal favorito? ga\n",
      "Tu animal favorito es: 'pe'\n",
      "Tu segundo animal favorito es: 'ga'\n"
     ]
    }
   ],
   "source": [
    "print(\"Tu animal favorito es: '\" + input(\"¿Cuál es tu animal favorito? \") + \"'\\nTu segundo animal favorito es: '\" + input(\"¿Cuál es tu segundo animal favorito? \") + \"'\")"
   ]
  },
  {
   "cell_type": "code",
   "execution_count": null,
   "metadata": {},
   "outputs": [],
   "source": []
  },
  {
   "cell_type": "markdown",
   "metadata": {},
   "source": [
    "### Sección 2 "
   ]
  },
  {
   "cell_type": "code",
   "execution_count": 26,
   "metadata": {},
   "outputs": [],
   "source": [
    "nombre = \"Tony Soprano\"\n",
    "edad = 51"
   ]
  },
  {
   "cell_type": "code",
   "execution_count": 27,
   "metadata": {},
   "outputs": [],
   "source": [
    "nombre = \"Julia\"\n",
    "apellido = \"Roberts\"\n",
    "nombrecompleto = nombre + \" \" + apellido"
   ]
  },
  {
   "cell_type": "code",
   "execution_count": 28,
   "metadata": {},
   "outputs": [
    {
     "data": {
      "text/plain": [
       "'Julia Roberts'"
      ]
     },
     "execution_count": 28,
     "metadata": {},
     "output_type": "execute_result"
    }
   ],
   "source": [
    "nombrecompleto"
   ]
  },
  {
   "cell_type": "code",
   "execution_count": 29,
   "metadata": {},
   "outputs": [
    {
     "name": "stdout",
     "output_type": "stream",
     "text": [
      "Estas tomando un curso de Phyton\n"
     ]
    }
   ],
   "source": [
    "curso = \"Phyton\"\n",
    "print(\"Estas tomando un curso de \" + curso)"
   ]
  },
  {
   "cell_type": "code",
   "execution_count": 30,
   "metadata": {},
   "outputs": [
    {
     "name": "stdout",
     "output_type": "stream",
     "text": [
      "<class 'int'>\n"
     ]
    }
   ],
   "source": [
    "num_entero = 5\n",
    "print(type(num_entero))"
   ]
  },
  {
   "cell_type": "code",
   "execution_count": 31,
   "metadata": {},
   "outputs": [
    {
     "name": "stdout",
     "output_type": "stream",
     "text": [
      "<class 'float'>\n"
     ]
    }
   ],
   "source": [
    "num_decimal = 5.84\n",
    "print(type(num_decimal))"
   ]
  },
  {
   "cell_type": "code",
   "execution_count": 32,
   "metadata": {},
   "outputs": [
    {
     "name": "stdout",
     "output_type": "stream",
     "text": [
      "<class 'float'>\n"
     ]
    }
   ],
   "source": [
    "num1 = 7.5\n",
    "num2 = 2.5\n",
    "print(type(num1 + num2))"
   ]
  },
  {
   "cell_type": "code",
   "execution_count": 33,
   "metadata": {},
   "outputs": [
    {
     "name": "stdout",
     "output_type": "stream",
     "text": [
      "<class 'int'>\n"
     ]
    }
   ],
   "source": [
    "num1 = 7.5\n",
    "num1 = int(num1)\n",
    "print(type(num1))"
   ]
  },
  {
   "cell_type": "code",
   "execution_count": 34,
   "metadata": {},
   "outputs": [
    {
     "name": "stdout",
     "output_type": "stream",
     "text": [
      "17.5\n"
     ]
    }
   ],
   "source": [
    "num1 = \"7.5\"\n",
    "num2 = \"10\"\n",
    "\n",
    "print(float(num1) + int(num2))"
   ]
  },
  {
   "cell_type": "code",
   "execution_count": 35,
   "metadata": {},
   "outputs": [
    {
     "name": "stdout",
     "output_type": "stream",
     "text": [
      "Estimado/a Jesse Pinkman, su número de asociado es: 399058\n"
     ]
    }
   ],
   "source": [
    "nombre_asociado = \"Jesse Pinkman\"\n",
    "numero_asociado = 399058\n",
    "print(f\"Estimado/a {nombre_asociado}, su número de asociado es: {numero_asociado}\")"
   ]
  },
  {
   "cell_type": "code",
   "execution_count": 36,
   "metadata": {},
   "outputs": [
    {
     "name": "stdout",
     "output_type": "stream",
     "text": [
      "Has ganado 350 puntos! En total, acumulas 1225 puntos\n"
     ]
    }
   ],
   "source": [
    "puntos_nuevos = 350\n",
    "puntos_totales = 1225\n",
    "print(\"Has ganado {} puntos! En total, acumulas {} puntos\".format(puntos_nuevos,puntos_totales))"
   ]
  },
  {
   "cell_type": "code",
   "execution_count": 37,
   "metadata": {},
   "outputs": [
    {
     "name": "stdout",
     "output_type": "stream",
     "text": [
      "Has ganado 350 puntos! En total, acumulas 1225 puntos\n"
     ]
    }
   ],
   "source": [
    "puntos_anteriores = 875\n",
    "puntos_nuevos = 350\n",
    "print(\"Has ganado \" + str(puntos_nuevos) + \" puntos! En total, acumulas \" + str(puntos_anteriores+puntos_nuevos) + \" puntos\")"
   ]
  },
  {
   "cell_type": "code",
   "execution_count": 38,
   "metadata": {},
   "outputs": [
    {
     "name": "stdout",
     "output_type": "stream",
     "text": [
      "32\n"
     ]
    }
   ],
   "source": [
    "print(874//27) #Divición al piso"
   ]
  },
  {
   "cell_type": "code",
   "execution_count": 39,
   "metadata": {},
   "outputs": [
    {
     "name": "stdout",
     "output_type": "stream",
     "text": [
      "27\n"
     ]
    }
   ],
   "source": [
    "print(456%33) #Módulo"
   ]
  },
  {
   "cell_type": "code",
   "execution_count": 41,
   "metadata": {},
   "outputs": [
    {
     "name": "stdout",
     "output_type": "stream",
     "text": [
      "27.982137159266443\n"
     ]
    }
   ],
   "source": [
    "print(783**0.5) #Raíz Cuadrada"
   ]
  },
  {
   "cell_type": "code",
   "execution_count": 44,
   "metadata": {},
   "outputs": [
    {
     "name": "stdout",
     "output_type": "stream",
     "text": [
      "3.33\n"
     ]
    }
   ],
   "source": [
    "numero = 10/3\n",
    "print(round(numero,2))"
   ]
  },
  {
   "cell_type": "code",
   "execution_count": 45,
   "metadata": {},
   "outputs": [
    {
     "name": "stdout",
     "output_type": "stream",
     "text": [
      "11\n"
     ]
    }
   ],
   "source": [
    "valor = 10.676767\n",
    "print(round(valor))"
   ]
  },
  {
   "cell_type": "code",
   "execution_count": 46,
   "metadata": {},
   "outputs": [
    {
     "name": "stdout",
     "output_type": "stream",
     "text": [
      "2.2361\n"
     ]
    }
   ],
   "source": [
    "raiz = 5**0.5\n",
    "print(round(raiz,4))"
   ]
  },
  {
   "cell_type": "markdown",
   "metadata": {},
   "source": [
    "##### PRACTICA 2"
   ]
  },
  {
   "cell_type": "code",
   "execution_count": 61,
   "metadata": {},
   "outputs": [
    {
     "name": "stdout",
     "output_type": "stream",
     "text": [
      "Ventas totales: 60\n",
      "Nombre de la persona: pa\n",
      "Ventas generadas: 3.5\n",
      "pa vendio un total de 3.5 pesos. Esto significa el 5.83 de las ventas totales\n"
     ]
    }
   ],
   "source": [
    "ventas_totales = input(\"Ventas totales: \")\n",
    "persona = input(\"Nombre de la persona: \")\n",
    "ventas = input(\"Ventas generadas: \")\n",
    "\n",
    "print(f\"{persona} vendio un total de {ventas} pesos. Esto significa el {round(float(ventas)*100/float(ventas_totales),2)} de las ventas totales\")\n"
   ]
  },
  {
   "cell_type": "code",
   "execution_count": null,
   "metadata": {},
   "outputs": [],
   "source": []
  },
  {
   "cell_type": "markdown",
   "metadata": {},
   "source": [
    "### Sección 3"
   ]
  },
  {
   "cell_type": "code",
   "execution_count": 2,
   "metadata": {},
   "outputs": [
    {
     "name": "stdout",
     "output_type": "stream",
     "text": [
      "n\n"
     ]
    }
   ],
   "source": [
    "palabra = \"ordenador\"\n",
    "print(palabra[4])"
   ]
  },
  {
   "cell_type": "code",
   "execution_count": 5,
   "metadata": {},
   "outputs": [
    {
     "name": "stdout",
     "output_type": "stream",
     "text": [
      "26\n"
     ]
    }
   ],
   "source": [
    "frase = \"En teoría, la teoría y la práctica son los mismos. En la práctica, no lo son.\"\n",
    "print(frase.index(\"práctica\"))"
   ]
  },
  {
   "cell_type": "code",
   "execution_count": 6,
   "metadata": {},
   "outputs": [
    {
     "name": "stdout",
     "output_type": "stream",
     "text": [
      "57\n"
     ]
    }
   ],
   "source": [
    "frase = \"En teoría, la teoría y la práctica son los mismos. En la práctica, no lo son.\"\n",
    "print(frase.rindex(\"práctica\"))"
   ]
  },
  {
   "cell_type": "code",
   "execution_count": 10,
   "metadata": {},
   "outputs": [
    {
     "name": "stdout",
     "output_type": "stream",
     "text": [
      "Controlar\n"
     ]
    }
   ],
   "source": [
    "frase = \"Controlar la complejidad es la esencia de la programación\"\n",
    "print(frase[:9])"
   ]
  },
  {
   "cell_type": "code",
   "execution_count": 12,
   "metadata": {},
   "outputs": [
    {
     "name": "stdout",
     "output_type": "stream",
     "text": [
      "neeuoed eoualz rnvta\n"
     ]
    }
   ],
   "source": [
    "frase = \"Nunca confíes en un ordenador que no puedas lanzar por una ventana\"\n",
    "print(frase[8::3])"
   ]
  },
  {
   "cell_type": "code",
   "execution_count": 16,
   "metadata": {},
   "outputs": [
    {
     "name": "stdout",
     "output_type": "stream",
     "text": [
      "azevrec ut nebeb es on y odot nadreucer ol ,netucsid oN .serodanedro noc rajabart laineg sE\n"
     ]
    }
   ],
   "source": [
    "frase = \"Es genial trabajar con ordenadores. No discuten, lo recuerdan todo y no se beben tu cerveza\"\n",
    "print(frase[::-1])"
   ]
  },
  {
   "cell_type": "code",
   "execution_count": 20,
   "metadata": {},
   "outputs": [
    {
     "name": "stdout",
     "output_type": "stream",
     "text": [
      "ESPECIALMENTE EN LAS COMUNICACIONES ELECTRÓNICAS, LA ESCRITURA ENTERAMENTE EN MAYÚSCULAS EQUIVALE A GRITAR.\n"
     ]
    }
   ],
   "source": [
    "frase = \"Especialmente en las comunicaciones electrónicas, la escritura enteramente en mayúsculas equivale a gritar.\"\n",
    "print(frase.upper())"
   ]
  },
  {
   "cell_type": "code",
   "execution_count": 33,
   "metadata": {},
   "outputs": [
    {
     "name": "stdout",
     "output_type": "stream",
     "text": [
      "La legibilidad cuenta.\n"
     ]
    }
   ],
   "source": [
    "lista_palabras = [\"La\",\"legibilidad\",\"cuenta.\"]\n",
    "print(\" \".join([lista_palabras[0],lista_palabras[1],lista_palabras[2]]))"
   ]
  },
  {
   "cell_type": "code",
   "execution_count": 31,
   "metadata": {},
   "outputs": [
    {
     "data": {
      "text/plain": [
       "['La', 'legibilidad', 'cuenta.']"
      ]
     },
     "execution_count": 31,
     "metadata": {},
     "output_type": "execute_result"
    }
   ],
   "source": [
    "lista_palabras[:]"
   ]
  },
  {
   "cell_type": "code",
   "execution_count": 39,
   "metadata": {},
   "outputs": [
    {
     "name": "stdout",
     "output_type": "stream",
     "text": [
      "Si la implementación es fácil de explicar, puede que sea una buena idea.\n"
     ]
    }
   ],
   "source": [
    "palabra = \"Si la implementación es difícil de explicar, puede que sea una mala idea.\"\n",
    "palabra = palabra.replace(\"difícil\", \"fácil\")\n",
    "palabra = palabra.replace(\"mala\", \"buena\")\n",
    "print(palabra)"
   ]
  },
  {
   "cell_type": "code",
   "execution_count": 1,
   "metadata": {},
   "outputs": [
    {
     "name": "stdout",
     "output_type": "stream",
     "text": [
      "RepeticiónRepeticiónRepeticiónRepeticiónRepeticiónRepeticiónRepeticiónRepeticiónRepeticiónRepeticiónRepeticiónRepeticiónRepeticiónRepeticiónRepetición\n"
     ]
    }
   ],
   "source": [
    "texto = \"Repetición\"\n",
    "print(texto *15)"
   ]
  },
  {
   "cell_type": "code",
   "execution_count": 7,
   "metadata": {},
   "outputs": [
    {
     "data": {
      "text/plain": [
       "True"
      ]
     },
     "execution_count": 7,
     "metadata": {},
     "output_type": "execute_result"
    }
   ],
   "source": [
    "haiku = \"\"\"Tierra mojada\n",
    "mis recuerdos de viaje,\n",
    "entre las lluvias\"\"\"\n",
    "\"agua\" not in  haiku"
   ]
  },
  {
   "cell_type": "code",
   "execution_count": 8,
   "metadata": {},
   "outputs": [
    {
     "name": "stdout",
     "output_type": "stream",
     "text": [
      "23\n"
     ]
    }
   ],
   "source": [
    "texto = \"electroencefalografista\"\n",
    "print(len(texto))"
   ]
  },
  {
   "cell_type": "code",
   "execution_count": 9,
   "metadata": {},
   "outputs": [],
   "source": [
    "mi_lista = [1,2,3,4,5]"
   ]
  },
  {
   "cell_type": "code",
   "execution_count": 10,
   "metadata": {},
   "outputs": [],
   "source": [
    "medios_transporte = [\"avión\", \"auto\", \"barco\", \"bicicleta\"]\n",
    "medios_transporte.append(\"motocicleta\")"
   ]
  },
  {
   "cell_type": "code",
   "execution_count": 13,
   "metadata": {},
   "outputs": [
    {
     "name": "stdout",
     "output_type": "stream",
     "text": [
      "['manzana', 'banana', 'cereza', 'sandía']\n",
      "mango\n"
     ]
    }
   ],
   "source": [
    "frutas = [\"manzana\", \"banana\", \"mango\", \"cereza\", \"sandía\"]\n",
    "eliminado = frutas.pop(2)\n",
    "print(frutas)\n",
    "print(eliminado)"
   ]
  },
  {
   "cell_type": "code",
   "execution_count": 17,
   "metadata": {},
   "outputs": [
    {
     "data": {
      "text/plain": [
       "{'nombre': 'Karen',\n",
       " 'apellido': 'Jurgens',\n",
       " 'edad': '35',\n",
       " 'ocupacion': 'Periodista'}"
      ]
     },
     "execution_count": 17,
     "metadata": {},
     "output_type": "execute_result"
    }
   ],
   "source": [
    "#nombre: Karen\n",
    "#apellido: Jurgens\n",
    "#edad: 35\n",
    "#ocupacion: Periodista\n",
    "mi_dic = {'nombre':'Karen', 'apellido':'Jurgens', 'edad':'35', 'ocupacion':'Periodista'}\n",
    "mi_dic"
   ]
  },
  {
   "cell_type": "code",
   "execution_count": 20,
   "metadata": {},
   "outputs": [
    {
     "name": "stdout",
     "output_type": "stream",
     "text": [
      "300\n"
     ]
    }
   ],
   "source": [
    "mi_dict = {\"valores_1\":{\"v1\":3,\"v2\":6},\"puntos\":{\"points1\":9,\"points2\":[10,300,15]}}\n",
    "print(mi_dict['puntos']['points2'][1])"
   ]
  },
  {
   "cell_type": "code",
   "execution_count": 24,
   "metadata": {},
   "outputs": [
    {
     "data": {
      "text/plain": [
       "{'nombre': 'Karen',\n",
       " 'apellido': 'Jurgens',\n",
       " 'edad': 36,\n",
       " 'ocupacion': 'Editora',\n",
       " 'pais': 'Colombia'}"
      ]
     },
     "execution_count": 24,
     "metadata": {},
     "output_type": "execute_result"
    }
   ],
   "source": [
    "mi_dic = {\"nombre\":\"Karen\", \"apellido\":\"Jurgens\", \"edad\":35, \"ocupacion\":\"Periodista\"}\n",
    "mi_dic[\"edad\"] = 36\n",
    "mi_dic[\"ocupacion\"] = \"Editora\"\n",
    "mi_dic[\"pais\"] = \"Colombia\"\n",
    "mi_dic"
   ]
  },
  {
   "cell_type": "code",
   "execution_count": 26,
   "metadata": {},
   "outputs": [
    {
     "name": "stdout",
     "output_type": "stream",
     "text": [
      "6\n"
     ]
    }
   ],
   "source": [
    "mi_tupla = (1, 2, 3, 2, 3, 1, 3, 2, 3, 3, 3, 1, 3, 2, 2, 1, 3, 2)\n",
    "print(mi_tupla.count(2))"
   ]
  },
  {
   "cell_type": "code",
   "execution_count": 27,
   "metadata": {},
   "outputs": [],
   "source": [
    "mi_tupla = (1, 2, 3, 2, 3, 1, 3, 2)\n",
    "mi_lista = list(mi_tupla)"
   ]
  },
  {
   "cell_type": "code",
   "execution_count": 32,
   "metadata": {},
   "outputs": [],
   "source": [
    "mi_set_1 = {1, 2, \"tres\", \"cuatro\"}\n",
    "mi_set_2 = {\"tres\", 4, 5} \n",
    "mi_set_3 = (mi_set_1.union(mi_set_2))"
   ]
  },
  {
   "cell_type": "code",
   "execution_count": 33,
   "metadata": {},
   "outputs": [
    {
     "data": {
      "text/plain": [
       "'Axel'"
      ]
     },
     "execution_count": 33,
     "metadata": {},
     "output_type": "execute_result"
    }
   ],
   "source": [
    "sorteo = {\"Camila\", \"Margarita\", \"Axel\", \"Jorge\", \"Miguel\", \"Mónica\"}\n",
    "sorteo.pop()"
   ]
  },
  {
   "cell_type": "code",
   "execution_count": 34,
   "metadata": {},
   "outputs": [],
   "source": [
    "sorteo = {\"Camila\", \"Margarita\", \"Axel\", \"Jorge\", \"Miguel\", \"Mónica\"}\n",
    "sorteo.add(\"Damián\")"
   ]
  },
  {
   "cell_type": "code",
   "execution_count": 35,
   "metadata": {},
   "outputs": [],
   "source": [
    "prueba = 5 == 4"
   ]
  },
  {
   "cell_type": "code",
   "execution_count": 36,
   "metadata": {},
   "outputs": [
    {
     "name": "stdout",
     "output_type": "stream",
     "text": [
      "False\n"
     ]
    }
   ],
   "source": [
    "print(17834/34 > 87*56)"
   ]
  },
  {
   "cell_type": "code",
   "execution_count": 37,
   "metadata": {},
   "outputs": [
    {
     "name": "stdout",
     "output_type": "stream",
     "text": [
      "True\n"
     ]
    }
   ],
   "source": [
    "print(25**0.5 == 5)"
   ]
  },
  {
   "cell_type": "markdown",
   "metadata": {},
   "source": [
    "##### PRACTICA 3"
   ]
  },
  {
   "cell_type": "code",
   "execution_count": null,
   "metadata": {},
   "outputs": [],
   "source": [
    "texto = \"\"\"La Primera Guerra Mundial marcó el primer gran conflicto internacional del siglo XX. \n",
    "El asesinato del archiduque Francisco Fernando, heredero de la corona austro-húngara, y de su esposa, \n",
    "la archiduquesa Sofía, en Sarajevo el 28 de junio de 1914, dio inicio a las hostilidades, \n",
    "que comenzaron en agosto de 1914, y continuaron en varios frentes durante los cuatro años siguientes\"\"\"\n",
    "\n",
    "\n",
    "#############PRIMERA PARTE = Cuantas veces aparece cada letra\n",
    "\n",
    "numero = int(input(\"Escribe el número de letras que quieres buscar en el texto: \"))\n",
    "dic = {}\n",
    "\n",
    "for n in range(numero):\n",
    "    dic[n] = (input(\"Escribe la primer letra que quieres que se cuente en el texto y presiona 'Enter': \")).lower()\n",
    "\n",
    "print(\" \")\n",
    "for k in dic.keys():\n",
    "    texto1 = texto.lower()\n",
    "    print(f\"La letra {dic[k]} se encuentra en el texto {texto1.count(dic[k])} veces \")\n",
    "    \n",
    "    \n",
    "###############SEGUNDA PARTE = Cuantas palabras hay en total \n",
    "\n",
    "print(\" \")\n",
    "palabras = texto.split()\n",
    "print(f\"El total de palabras que hay en el texto son {len(palabras)}\")\n",
    "\n",
    "############# TERCER PARTE = Primera y ultima palabras del texto\n",
    "\n",
    "print(\" \")\n",
    "print(f\"La primer letra del texto es: {texto[0]}\")\n",
    "print(f\"La ultima letra del texto es: {texto[-1]}\")\n",
    "\n",
    "############# CUARTA PARTE = Palabras en orden inverso\n",
    "\n",
    "print(\" \")\n",
    "print(\"El Texto en reverso se lee de la siguiente forma:\")\n",
    "print(texto[::-1])\n",
    "\n",
    "############# QUInta PARTE = Encontrar una palabra solicitada\n",
    "\n",
    "print(\" \")\n",
    "pa = (input(\"Escribe la palabra que quieres encontrar en el texto: \")).lower()\n",
    "\n",
    "if pa in texto1:\n",
    "    z = \"si\"\n",
    "else:\n",
    "    z = \"no\"\n",
    "\n",
    "print(f\"La palabra '{pa}' {z} se encuentra en el texto.\")\n",
    "\n"
   ]
  },
  {
   "cell_type": "code",
   "execution_count": null,
   "metadata": {},
   "outputs": [],
   "source": []
  },
  {
   "cell_type": "markdown",
   "metadata": {},
   "source": [
    "### Sección 4"
   ]
  },
  {
   "cell_type": "code",
   "execution_count": 12,
   "metadata": {},
   "outputs": [
    {
     "name": "stdout",
     "output_type": "stream",
     "text": [
      "True\n"
     ]
    }
   ],
   "source": [
    "num1= 36\n",
    "num2= 17\n",
    "mi_bool = num1 >= num2\n",
    "print(mi_bool)"
   ]
  },
  {
   "cell_type": "code",
   "execution_count": 13,
   "metadata": {},
   "outputs": [
    {
     "name": "stdout",
     "output_type": "stream",
     "text": [
      "True\n"
     ]
    }
   ],
   "source": [
    "num1 = 25**0.5\n",
    "num2 =5\n",
    "mi_bool = num1==num2\n",
    "print(mi_bool)"
   ]
  },
  {
   "cell_type": "code",
   "execution_count": 11,
   "metadata": {},
   "outputs": [
    {
     "name": "stdout",
     "output_type": "stream",
     "text": [
      "False\n"
     ]
    }
   ],
   "source": [
    "num1 = 64*3\n",
    "num2 = 24*8\n",
    "mi_bool = num1!=num2\n",
    "print(mi_bool)"
   ]
  },
  {
   "cell_type": "code",
   "execution_count": 9,
   "metadata": {},
   "outputs": [
    {
     "name": "stdout",
     "output_type": "stream",
     "text": [
      "False\n"
     ]
    }
   ],
   "source": [
    "num1 = 36\n",
    "num2 = 72/2\n",
    "num3 = 48\n",
    "mi_bool = num1 > num2 and num1 < num3\n",
    "print(mi_bool)"
   ]
  },
  {
   "cell_type": "code",
   "execution_count": 14,
   "metadata": {},
   "outputs": [
    {
     "name": "stdout",
     "output_type": "stream",
     "text": [
      "True\n"
     ]
    }
   ],
   "source": [
    "num1 = 36\n",
    "num2 = 72/2\n",
    "num3 = 48\n",
    "mi_bool = num1 > num2 or num1 < num3\n",
    "print(mi_bool)"
   ]
  },
  {
   "cell_type": "code",
   "execution_count": 17,
   "metadata": {},
   "outputs": [
    {
     "name": "stdout",
     "output_type": "stream",
     "text": [
      "True\n"
     ]
    }
   ],
   "source": [
    "frase = \"Cuando algo es lo suficientemente importante, lo haces incluso si las probabilidades de que salga bien no te acompañan\"\n",
    "palabra1 = \"éxito\"\n",
    "palabra2 = \"tecnología\"\n",
    "mi_bool = not(palabra1 and palabra2) in frase\n",
    "print(mi_bool)"
   ]
  },
  {
   "cell_type": "code",
   "execution_count": 21,
   "metadata": {},
   "outputs": [
    {
     "name": "stdout",
     "output_type": "stream",
     "text": [
      "Ingresa un número:5\n",
      "Ingresa otro número:5\n",
      "5 y 5 son iguales\n"
     ]
    }
   ],
   "source": [
    "num1 = input(\"Ingresa un número:\")\n",
    "num2 = input(\"Ingresa otro número:\")\n",
    "\n",
    "if (num1 > num2):\n",
    "    print(f\"{num1} es mayor que {num2}\")\n",
    "elif (num2 > num1):\n",
    "    print(f\"{num2} es mayor que {num1}\")\n",
    "else:\n",
    "    print(f\"{num1} y {num2} son iguales\")"
   ]
  },
  {
   "cell_type": "code",
   "execution_count": 24,
   "metadata": {},
   "outputs": [
    {
     "name": "stdout",
     "output_type": "stream",
     "text": [
      "No puedes conducir aún. Debes tener 18 años y contar con una licencia\n"
     ]
    }
   ],
   "source": [
    "edad = 16\n",
    "tiene_licencia = False\n",
    "\n",
    "if (tiene_licencia == False):\n",
    "    if (edad < 18):\n",
    "        print(\"No puedes conducir aún. Debes tener 18 años y contar con una licencia\")\n",
    "    else:\n",
    "        print(\"No puedes conducir. Necesitas contar con una licencia\")\n",
    "else:\n",
    "    print(\"Puedes conducir\")\n"
   ]
  },
  {
   "cell_type": "code",
   "execution_count": 39,
   "metadata": {},
   "outputs": [
    {
     "name": "stdout",
     "output_type": "stream",
     "text": [
      "Para postularte, necesitas saber programar en Python\n"
     ]
    }
   ],
   "source": [
    "habla_ingles = True\n",
    "sabe_python = False\n",
    "\n",
    "if habla_ingles==True and sabe_python==True:\n",
    "    print(\"Cumples con los requisitos para postularte\")\n",
    "elif habla_ingles==False and sabe_python==False:\n",
    "    print(\"Para postularte, necesitas saber programar en Python y tener conocimientos de inglés\")\n",
    "elif (habla_ingles == False and sabe_python == True):\n",
    "    print(\"Para postularte, necesitas tener conocimientos de inglés\")\n",
    "else:\n",
    "    print(\"Para postularte, necesitas saber programar en Python\")\n"
   ]
  },
  {
   "cell_type": "code",
   "execution_count": 2,
   "metadata": {},
   "outputs": [
    {
     "name": "stdout",
     "output_type": "stream",
     "text": [
      "Hola María\n",
      "Hola José\n",
      "Hola Carlos\n",
      "Hola Martina\n",
      "Hola Isabel\n",
      "Hola Tomás\n",
      "Hola Daniela\n"
     ]
    }
   ],
   "source": [
    "alumnos_clase = [\"María\", \"José\", \"Carlos\", \"Martina\", \"Isabel\", \"Tomás\", \"Daniela\"]\n",
    "for alumnos in alumnos_clase:\n",
    "    print(f\"Hola {alumnos}\")"
   ]
  },
  {
   "cell_type": "code",
   "execution_count": 5,
   "metadata": {},
   "outputs": [
    {
     "name": "stdout",
     "output_type": "stream",
     "text": [
      "113\n"
     ]
    }
   ],
   "source": [
    "lista_numeros = [1,5,8,7,6,8,2,5,2,6,4,8,5,9,8,3,5,4,2,5,6,4]\n",
    "suma_numeros = 0\n",
    "for numero in lista_numeros:\n",
    "    suma_numeros = numero + suma_numeros\n",
    "print(suma_numeros)"
   ]
  },
  {
   "cell_type": "code",
   "execution_count": 7,
   "metadata": {},
   "outputs": [
    {
     "name": "stdout",
     "output_type": "stream",
     "text": [
      "68\n",
      "45\n"
     ]
    }
   ],
   "source": [
    "lista_numeros = [1,5,8,7,6,8,2,5,2,6,4,8,5,9,8,3,5,4,2,5,6,4]\n",
    "suma_pares = 0\n",
    "suma_impares = 0 \n",
    "for numero in lista_numeros:\n",
    "    if numero%2==0:\n",
    "        suma_pares = suma_pares + numero\n",
    "    else:\n",
    "        suma_impares = suma_impares + numero\n",
    "print(suma_pares)\n",
    "print(suma_impares)"
   ]
  },
  {
   "cell_type": "code",
   "execution_count": 8,
   "metadata": {},
   "outputs": [
    {
     "name": "stdout",
     "output_type": "stream",
     "text": [
      "10\n",
      "9\n",
      "8\n",
      "7\n",
      "6\n",
      "5\n",
      "4\n",
      "3\n",
      "2\n",
      "1\n",
      "0\n"
     ]
    }
   ],
   "source": [
    "numero = 10\n",
    "while numero >= 0:\n",
    "    print(numero)\n",
    "    numero -=1"
   ]
  },
  {
   "cell_type": "code",
   "execution_count": 17,
   "metadata": {},
   "outputs": [
    {
     "name": "stdout",
     "output_type": "stream",
     "text": [
      "50\n",
      "45\n",
      "40\n",
      "35\n",
      "30\n",
      "25\n",
      "20\n",
      "15\n",
      "10\n",
      "5\n",
      "0\n"
     ]
    }
   ],
   "source": [
    "numero = 50\n",
    "while numero >= 0:\n",
    "    if numero%5==0:\n",
    "        print(numero)\n",
    "        numero -=1\n",
    "    else:\n",
    "        numero -=1\n",
    "        continue\n",
    "        \n",
    "    "
   ]
  },
  {
   "cell_type": "code",
   "execution_count": 6,
   "metadata": {},
   "outputs": [
    {
     "name": "stdout",
     "output_type": "stream",
     "text": [
      "4\n",
      "5\n",
      "8\n",
      "7\n",
      "6\n",
      "9\n",
      "8\n",
      "2\n",
      "4\n",
      "5\n",
      "7\n",
      "1\n",
      "9\n",
      "5\n",
      "6\n"
     ]
    }
   ],
   "source": [
    "lista_numeros = [4,5,8,7,6,9,8,2,4,5,7,1,9,5,6,-1,-5,6,-6,-4,-3]\n",
    "for numero in lista_numeros:\n",
    "    if numero < 0:\n",
    "        break\n",
    "    else:\n",
    "        print(numero)"
   ]
  },
  {
   "cell_type": "code",
   "execution_count": 11,
   "metadata": {},
   "outputs": [
    {
     "name": "stdout",
     "output_type": "stream",
     "text": [
      "[2500, 2501, 2502, 2503, 2504, 2505, 2506, 2507, 2508, 2509, 2510, 2511, 2512, 2513, 2514, 2515, 2516, 2517, 2518, 2519, 2520, 2521, 2522, 2523, 2524, 2525, 2526, 2527, 2528, 2529, 2530, 2531, 2532, 2533, 2534, 2535, 2536, 2537, 2538, 2539, 2540, 2541, 2542, 2543, 2544, 2545, 2546, 2547, 2548, 2549, 2550, 2551, 2552, 2553, 2554, 2555, 2556, 2557, 2558, 2559, 2560, 2561, 2562, 2563, 2564, 2565, 2566, 2567, 2568, 2569, 2570, 2571, 2572, 2573, 2574, 2575, 2576, 2577, 2578, 2579, 2580, 2581, 2582, 2583, 2584, 2585]\n"
     ]
    }
   ],
   "source": [
    "mi_lista = list(range(2500,2586))\n",
    "print(mi_lista)"
   ]
  },
  {
   "cell_type": "code",
   "execution_count": 12,
   "metadata": {},
   "outputs": [
    {
     "name": "stdout",
     "output_type": "stream",
     "text": [
      "[3, 6, 9, 12, 15, 18, 21, 24, 27, 30, 33, 36, 39, 42, 45, 48, 51, 54, 57, 60, 63, 66, 69, 72, 75, 78, 81, 84, 87, 90, 93, 96, 99, 102, 105, 108, 111, 114, 117, 120, 123, 126, 129, 132, 135, 138, 141, 144, 147, 150, 153, 156, 159, 162, 165, 168, 171, 174, 177, 180, 183, 186, 189, 192, 195, 198, 201, 204, 207, 210, 213, 216, 219, 222, 225, 228, 231, 234, 237, 240, 243, 246, 249, 252, 255, 258, 261, 264, 267, 270, 273, 276, 279, 282, 285, 288, 291, 294, 297, 300]\n"
     ]
    }
   ],
   "source": [
    "mi_lista = list(range(3,301,3))\n",
    "print(mi_lista)"
   ]
  },
  {
   "cell_type": "code",
   "execution_count": 25,
   "metadata": {},
   "outputs": [
    {
     "name": "stdout",
     "output_type": "stream",
     "text": [
      "1240\n"
     ]
    }
   ],
   "source": [
    "suma_cuadrados = list(range(1,16))\n",
    "for numero in range(len(suma_cuadrados)):\n",
    "    suma_cuadrados[numero] = suma_cuadrados[numero]**2\n",
    "suma_cuadrados = sum(suma_cuadrados)\n",
    "print(suma_cuadrados)"
   ]
  },
  {
   "cell_type": "code",
   "execution_count": 26,
   "metadata": {},
   "outputs": [
    {
     "name": "stdout",
     "output_type": "stream",
     "text": [
      "Marcos se encuentra en el índice 0\n",
      "Laura se encuentra en el índice 1\n",
      "Mónica se encuentra en el índice 2\n",
      "Javier se encuentra en el índice 3\n",
      "Celina se encuentra en el índice 4\n",
      "Marta se encuentra en el índice 5\n",
      "Darío se encuentra en el índice 6\n",
      "Emiliano se encuentra en el índice 7\n",
      "Melisa se encuentra en el índice 8\n"
     ]
    }
   ],
   "source": [
    "lista_nombres = [\"Marcos\", \"Laura\", \"Mónica\", \"Javier\", \"Celina\", \"Marta\", \"Darío\", \"Emiliano\", \"Melisa\"]\n",
    "for indice, nombre in enumerate(lista_nombres):\n",
    "    print(f'{nombre} se encuentra en el índice {indice}')"
   ]
  },
  {
   "cell_type": "code",
   "execution_count": 29,
   "metadata": {},
   "outputs": [
    {
     "name": "stdout",
     "output_type": "stream",
     "text": [
      "[(0, 'P'), (1, 'y'), (2, 't'), (3, 'h'), (4, 'o'), (5, 'n')]\n"
     ]
    }
   ],
   "source": [
    "lista = list(enumerate(\"Python\"))\n",
    "print(lista)"
   ]
  },
  {
   "cell_type": "code",
   "execution_count": 32,
   "metadata": {},
   "outputs": [
    {
     "name": "stdout",
     "output_type": "stream",
     "text": [
      "0\n",
      "2\n",
      "5\n",
      "8\n"
     ]
    }
   ],
   "source": [
    "lista_nombres = [\"Marcos\", \"Laura\", \"Mónica\", \"Javier\", \"Celina\", \"Marta\", \"Darío\", \"Emiliano\", \"Melisa\"]\n",
    "for indice, nombre in enumerate(lista_nombres):\n",
    "    if nombre[0] == \"M\":\n",
    "        print(indice)\n",
    "    else:\n",
    "        continue"
   ]
  },
  {
   "cell_type": "code",
   "execution_count": 33,
   "metadata": {},
   "outputs": [
    {
     "name": "stdout",
     "output_type": "stream",
     "text": [
      "La capital de Alemania es Berlín\n",
      "La capital de Japón es Tokio\n",
      "La capital de Francia es París\n",
      "La capital de Finlandia es Helsinki\n",
      "La capital de Canadá es Ottawa\n",
      "La capital de Australia es Canberra\n"
     ]
    }
   ],
   "source": [
    "capitales = [\"Berlín\", \"Tokio\", \"París\", \"Helsinki\", \"Ottawa\", \"Canberra\"]\n",
    "paises = [\"Alemania\", \"Japón\", \"Francia\", \"Finlandia\", \"Canadá\", \"Australia\"]\n",
    "lista = list(zip(paises, capitales))\n",
    "for paises, capitales in lista:\n",
    "    print(f\"La capital de {paises} es {capitales}\")"
   ]
  },
  {
   "cell_type": "code",
   "execution_count": 34,
   "metadata": {},
   "outputs": [],
   "source": [
    "marcas = [\"Springfild\",\"Calvin Klein\", \"Levis\"]\n",
    "productos = [\"playeras\", \"calzones\", \"pantalones\"]\n",
    "mi_zip = zip(marcas, productos)"
   ]
  },
  {
   "cell_type": "code",
   "execution_count": 43,
   "metadata": {},
   "outputs": [
    {
     "data": {
      "text/plain": [
       "[('uno', 'um', 'one'),\n",
       " ('dos', 'dois', 'two'),\n",
       " ('tres', 'três', 'three'),\n",
       " ('cuatro', 'quatro', 'four'),\n",
       " ('cinco', 'cinco', 'five')]"
      ]
     },
     "execution_count": 43,
     "metadata": {},
     "output_type": "execute_result"
    }
   ],
   "source": [
    "español = [\"uno\", \"dos\", \"tres\", \"cuatro\", \"cinco\"]\n",
    "portugues = [\"um\", \"dois\", \"três\", \"quatro\", \"cinco\"]\n",
    "ingles = [\"one\", \"two\", \"three\", \"four\", \"five\"]\n",
    "\n",
    "numeros = list (zip(español, portugues, ingles))\n",
    "numeros"
   ]
  },
  {
   "cell_type": "code",
   "execution_count": 3,
   "metadata": {},
   "outputs": [
    {
     "name": "stdout",
     "output_type": "stream",
     "text": [
      "766217865410400390625\n"
     ]
    }
   ],
   "source": [
    "lista_numeros = [44542247/2, 21310/5, 2134747*33, 44556475, 121676, 6654067, 353254, 123134, 55**12, 611**5]\n",
    "valor_maximo = max(lista_numeros)\n",
    "print(valor_maximo)"
   ]
  },
  {
   "cell_type": "code",
   "execution_count": 4,
   "metadata": {},
   "outputs": [
    {
     "name": "stdout",
     "output_type": "stream",
     "text": [
      "44535165\n"
     ]
    }
   ],
   "source": [
    "lista_numeros = [44542247, 21310, 2134747, 44556475, 121676, 6654067, 353254, 123134, 552512, 611665]\n",
    "rango = max(lista_numeros) - min(lista_numeros)\n",
    "print(rango)"
   ]
  },
  {
   "cell_type": "code",
   "execution_count": 9,
   "metadata": {},
   "outputs": [
    {
     "name": "stdout",
     "output_type": "stream",
     "text": [
      "2 Sebastián\n"
     ]
    }
   ],
   "source": [
    "diccionario_edades = {\"Carlos\":55, \"María\":42, \"Mabel\":78, \"José\":44, \"Lucas\":24, \"Rocío\":35, \"Sebastián\":19, \"Catalina\":2,\"Darío\":49}\n",
    "edad_minima = min(diccionario_edades.values())\n",
    "ultimo_nombre = max(diccionario_edades.keys())\n",
    "print(edad_minima, ultimo_nombre)"
   ]
  },
  {
   "cell_type": "code",
   "execution_count": 13,
   "metadata": {},
   "outputs": [
    {
     "name": "stdout",
     "output_type": "stream",
     "text": [
      "8\n"
     ]
    }
   ],
   "source": [
    "from random import randint\n",
    "aleatorio = randint(1,10)\n",
    "print(aleatorio)"
   ]
  },
  {
   "cell_type": "code",
   "execution_count": 14,
   "metadata": {},
   "outputs": [
    {
     "name": "stdout",
     "output_type": "stream",
     "text": [
      "0.11019832390894013\n"
     ]
    }
   ],
   "source": [
    "from random import *\n",
    "aleatorio = random()\n",
    "print(aleatorio)"
   ]
  },
  {
   "cell_type": "code",
   "execution_count": 17,
   "metadata": {},
   "outputs": [
    {
     "name": "stdout",
     "output_type": "stream",
     "text": [
      "Carlos\n"
     ]
    }
   ],
   "source": [
    "nombres = [\"Carlos\", \"Julia\", \"Nicole\", \"Laura\", \"Mailen\"]\n",
    "from random import *\n",
    "sorteo = choice(nombres)\n",
    "print(sorteo)"
   ]
  },
  {
   "cell_type": "code",
   "execution_count": 19,
   "metadata": {},
   "outputs": [
    {
     "data": {
      "text/plain": [
       "[1, 4, 9, 16, 25, 36, 90.25]"
      ]
     },
     "execution_count": 19,
     "metadata": {},
     "output_type": "execute_result"
    }
   ],
   "source": [
    "valores = [1, 2, 3, 4, 5, 6, 9.5]\n",
    "valores_cuadrado = [n**2 for n in valores]\n",
    "valores_cuadrado"
   ]
  },
  {
   "cell_type": "code",
   "execution_count": 28,
   "metadata": {},
   "outputs": [
    {
     "data": {
      "text/plain": [
       "[2, 4, 6]"
      ]
     },
     "execution_count": 28,
     "metadata": {},
     "output_type": "execute_result"
    }
   ],
   "source": [
    "valores = [1, 2, 3, 4, 5, 6, 9.5] \n",
    "valores_pares = [n for n in valores if n%2 == 0]\n",
    "valores_pares"
   ]
  },
  {
   "cell_type": "code",
   "execution_count": 29,
   "metadata": {},
   "outputs": [
    {
     "data": {
      "text/plain": [
       "[0.0, 100.0, 135.0]"
      ]
     },
     "execution_count": 29,
     "metadata": {},
     "output_type": "execute_result"
    }
   ],
   "source": [
    "temperatura_fahrenheit = [32, 212, 275]\n",
    "grados_celsius = [(n-32)*(5/9) for n in temperatura_fahrenheit]\n",
    "grados_celsius"
   ]
  },
  {
   "cell_type": "markdown",
   "metadata": {},
   "source": [
    "##### PRACTICA 2"
   ]
  },
  {
   "cell_type": "code",
   "execution_count": 58,
   "metadata": {},
   "outputs": [
    {
     "name": "stdout",
     "output_type": "stream",
     "text": [
      "Introduce tu nombre: Pablo\n",
      "\n",
      "Hola Pablo, intenta adivinar un numero del 1 al 100. Solo tendras 8 intentos\n",
      "Digita un numero, este es tu intento número 1: 40\n",
      "\n",
      "El número que escogiste es mayor al número secreto, sigue intentandolo\n",
      "Digita un numero, este es tu intento número 2: 30\n",
      "\n",
      "El número que escogiste es mayor al número secreto, sigue intentandolo\n",
      "Digita un numero, este es tu intento número 3: 20\n",
      "\n",
      "El número que escogiste es mayor al número secreto, sigue intentandolo\n",
      "Digita un numero, este es tu intento número 4: 10\n",
      "\n",
      "El número que escogiste es mayor al número secreto, sigue intentandolo\n",
      "Digita un numero, este es tu intento número 5: 8\n",
      "\n",
      "El número que escogiste es mayor al número secreto, sigue intentandolo\n",
      "Digita un numero, este es tu intento número 6: 5\n",
      "\n",
      "El número que escogiste es menor al número secreto, sigue intentando\n",
      "Digita un numero, este es tu intento número 7: 7\n",
      "\n",
      "El número que escogiste es mayor al número secreto, sigue intentandolo\n",
      "Digita un numero, este es tu intento número 8: 6\n",
      "\n",
      "Acertaste el numero. Felicidades. Te tomó 8 intentos.\n"
     ]
    }
   ],
   "source": [
    "import random\n",
    "\n",
    "numero_random = randint(1,100)\n",
    "veces_permitidas = 0\n",
    "\n",
    "nombre = input(\"Introduce tu nombre: \")\n",
    "\n",
    "print(\"\")\n",
    "print(f\"Hola {nombre}, intenta adivinar un numero del 1 al 100. Solo tendras 8 intentos\")\n",
    "\n",
    "while (veces_permitidas < 8):\n",
    "    numero_entrada = int(input(f\"Digita un numero, este es tu intento número {veces_permitidas+1}: \"))\n",
    "    \n",
    "    print(\"\")\n",
    "    if (numero_entrada < 1 or numero_entrada > 100):\n",
    "        print(\"El número que escogiste no esta permitido\")\n",
    "    elif (numero_entrada < numero_random):\n",
    "        print(\"El número que escogiste es menor al número secreto, sigue intentando\")\n",
    "    elif (numero_entrada > numero_random):\n",
    "        print(\"El número que escogiste es mayor al número secreto, sigue intentandolo\")\n",
    "    else:\n",
    "        print(f\"Acertaste el numero. Felicidades. Te tomó {veces_permitidas+1} intentos.\")\n",
    "        break\n",
    "    \n",
    "    if veces_permitidas == 7:\n",
    "        print(f\"Has perdido. El número secreto era {numero_random}\")\n",
    "    veces_permitidas +=1\n",
    "    \n"
   ]
  },
  {
   "cell_type": "code",
   "execution_count": null,
   "metadata": {},
   "outputs": [],
   "source": []
  },
  {
   "cell_type": "markdown",
   "metadata": {},
   "source": [
    "### Sección 5        "
   ]
  },
  {
   "cell_type": "code",
   "execution_count": 32,
   "metadata": {},
   "outputs": [
    {
     "name": "stdout",
     "output_type": "stream",
     "text": [
      "Pyt%on_ _Total,,,,,,::#\n"
     ]
    }
   ],
   "source": [
    "texto = \",:_#,,,,,,:::____##Pyt%on_ _Total,,,,,,::#\"\n",
    "print(texto.lstrip(\",:_#%\"))"
   ]
  },
  {
   "cell_type": "code",
   "execution_count": 41,
   "metadata": {},
   "outputs": [
    {
     "data": {
      "text/plain": [
       "['mango', 'banana', 'cereza', 'naranja', 'ciruela', 'pomelo']"
      ]
     },
     "execution_count": 41,
     "metadata": {},
     "output_type": "execute_result"
    }
   ],
   "source": [
    "frutas = [\"mango\", \"banana\", \"cereza\", \"ciruela\", \"pomelo\"] \n",
    "frutas.insert(3,\"naranja\")\n",
    "frutas"
   ]
  },
  {
   "cell_type": "code",
   "execution_count": 44,
   "metadata": {},
   "outputs": [
    {
     "data": {
      "text/plain": [
       "False"
      ]
     },
     "execution_count": 44,
     "metadata": {},
     "output_type": "execute_result"
    }
   ],
   "source": [
    "marcas_smartphones = {\"Samsung\", \"Xiaomi\", \"Apple\", \"Huawei\", \"LG\"}\n",
    "\n",
    "marcas_tv = {\"Sony\", \"Philips\", \"Samsung\", \"LG\"}\n",
    "\n",
    "conjuntos_aislados = marcas_tv.isdisjoint(marcas_smartphones)\n",
    "conjuntos_aislados"
   ]
  },
  {
   "cell_type": "code",
   "execution_count": 45,
   "metadata": {},
   "outputs": [],
   "source": [
    "def saludar():\n",
    "    print(\"¡Hola mundo!\")"
   ]
  },
  {
   "cell_type": "code",
   "execution_count": 48,
   "metadata": {},
   "outputs": [
    {
     "name": "stdout",
     "output_type": "stream",
     "text": [
      "¡Bienvenido pablo!\n"
     ]
    }
   ],
   "source": [
    "def bienvenida(nombre_persona):\n",
    "    print(f\"¡Bienvenido {nombre_persona}!\")\n",
    "\n",
    "bienvenida(\"pablo\")"
   ]
  },
  {
   "cell_type": "code",
   "execution_count": 49,
   "metadata": {},
   "outputs": [],
   "source": [
    "def bienvenida(nombre):\n",
    "    nombre_persona = nombre\n",
    "    print(f\"¡Bienvenido {nombre_persona}!\")\n",
    "    \n",
    "nombre_persona = \"Lucas\""
   ]
  },
  {
   "cell_type": "code",
   "execution_count": 53,
   "metadata": {},
   "outputs": [],
   "source": [
    "def cuadrado(un_numero):\n",
    "    print(un_numero**2)\n",
    "    \n",
    "un_numero = 2"
   ]
  },
  {
   "cell_type": "code",
   "execution_count": 1,
   "metadata": {},
   "outputs": [
    {
     "name": "stdout",
     "output_type": "stream",
     "text": [
      "512\n"
     ]
    }
   ],
   "source": [
    "def potencia (numero1, numero2):\n",
    "    return numero1**numero2\n",
    "\n",
    "numero = potencia(8,3)\n",
    "print(numero)"
   ]
  },
  {
   "cell_type": "code",
   "execution_count": 3,
   "metadata": {},
   "outputs": [
    {
     "data": {
      "text/plain": [
       "9.0"
      ]
     },
     "execution_count": 3,
     "metadata": {},
     "output_type": "execute_result"
    }
   ],
   "source": [
    "def usd_a_eur (dolares):\n",
    "    return dolares*0.9\n",
    "\n",
    "dolares = 10    \n",
    "usd_a_eur(dolares)"
   ]
  },
  {
   "cell_type": "code",
   "execution_count": 13,
   "metadata": {},
   "outputs": [
    {
     "data": {
      "text/plain": [
       "'NOTYHP'"
      ]
     },
     "execution_count": 13,
     "metadata": {},
     "output_type": "execute_result"
    }
   ],
   "source": [
    "def invertir_palabra(palabra):\n",
    "    return palabra[::-1].upper()\n",
    "    \n",
    "palabra = \"Phyton\"\n",
    "invertir_palabra(palabra)"
   ]
  },
  {
   "cell_type": "code",
   "execution_count": 11,
   "metadata": {},
   "outputs": [
    {
     "data": {
      "text/plain": [
       "'aloh'"
      ]
     },
     "execution_count": 11,
     "metadata": {},
     "output_type": "execute_result"
    }
   ],
   "source": [
    "la = \"hola\"\n",
    "la[::-1]"
   ]
  },
  {
   "cell_type": "code",
   "execution_count": 27,
   "metadata": {},
   "outputs": [
    {
     "data": {
      "text/plain": [
       "False"
      ]
     },
     "execution_count": 27,
     "metadata": {},
     "output_type": "execute_result"
    }
   ],
   "source": [
    "def todos_positivos(lista_numeros):\n",
    "    for n in lista_numeros:\n",
    "        if n < 0:\n",
    "            return False\n",
    "        else:\n",
    "            pass\n",
    "    return True\n",
    "    \n",
    "lista_numeros = [1,-1,2,-2,3,-3]\n",
    "\n",
    "todos_positivos(lista_numeros)"
   ]
  },
  {
   "cell_type": "code",
   "execution_count": 33,
   "metadata": {},
   "outputs": [
    {
     "data": {
      "text/plain": [
       "30"
      ]
     },
     "execution_count": 33,
     "metadata": {},
     "output_type": "execute_result"
    }
   ],
   "source": [
    "def suma_menores (numeros):\n",
    "    lista_numeros = []\n",
    "    for n in numeros:\n",
    "        if n > 0 and n < 1000:\n",
    "            lista_numeros.append(n)\n",
    "        else:\n",
    "            pass\n",
    "    return sum(lista_numeros)\n",
    "\n",
    "numeros = [5, 5, 5, 5, 5, 1000, 22000, 5, -5, -2]\n",
    "\n",
    "suma_menores(numeros)\n"
   ]
  },
  {
   "cell_type": "code",
   "execution_count": 49,
   "metadata": {},
   "outputs": [
    {
     "data": {
      "text/plain": [
       "5"
      ]
     },
     "execution_count": 49,
     "metadata": {},
     "output_type": "execute_result"
    }
   ],
   "source": [
    "def cantidad_pares (lista_numeros):\n",
    "    pares = 0 \n",
    "    for n in lista_numeros:\n",
    "        if n%2 == 0:\n",
    "            pares += 1\n",
    "        else: \n",
    "            pass\n",
    "    return pares\n",
    "\n",
    "lista_numeros = [2,4,5,6,7,8,10]\n",
    "\n",
    "cantidad_pares(lista_numeros)"
   ]
  },
  {
   "cell_type": "code",
   "execution_count": 48,
   "metadata": {},
   "outputs": [
    {
     "name": "stdout",
     "output_type": "stream",
     "text": [
      "[2, 3, 5, 7, 11]\n"
     ]
    }
   ],
   "source": [
    "def is_prime(n):\n",
    "    for i in range(2,n):\n",
    "        if (n%i) == 0:\n",
    "            return False\n",
    "    return True\n",
    "\n",
    "lista_numeros = [2, 3, 4, 5, 6, 7, 8, 9, 10, 11]\n",
    "lista_primos = []\n",
    "\n",
    "for n in lista_numeros:\n",
    "    primo = is_prime(n)\n",
    "    if primo == True:\n",
    "        lista_primos.append(n)\n",
    "    else:\n",
    "        pass\n",
    "\n",
    "print(lista_primos)"
   ]
  },
  {
   "cell_type": "code",
   "execution_count": null,
   "metadata": {},
   "outputs": [],
   "source": []
  },
  {
   "cell_type": "code",
   "execution_count": null,
   "metadata": {},
   "outputs": [],
   "source": []
  },
  {
   "cell_type": "code",
   "execution_count": null,
   "metadata": {},
   "outputs": [],
   "source": []
  },
  {
   "cell_type": "code",
   "execution_count": 1,
   "metadata": {},
   "outputs": [],
   "source": [
    "a = 5"
   ]
  },
  {
   "cell_type": "code",
   "execution_count": 5,
   "metadata": {},
   "outputs": [
    {
     "name": "stdout",
     "output_type": "stream",
     "text": [
      "hola 5 mama \n"
     ]
    }
   ],
   "source": [
    "print (\"hola\", a, \"mama \")"
   ]
  },
  {
   "cell_type": "code",
   "execution_count": null,
   "metadata": {},
   "outputs": [],
   "source": []
  }
 ],
 "metadata": {
  "kernelspec": {
   "display_name": "Python 3",
   "language": "python",
   "name": "python3"
  },
  "language_info": {
   "codemirror_mode": {
    "name": "ipython",
    "version": 3
   },
   "file_extension": ".py",
   "mimetype": "text/x-python",
   "name": "python",
   "nbconvert_exporter": "python",
   "pygments_lexer": "ipython3",
   "version": "3.8.5"
  }
 },
 "nbformat": 4,
 "nbformat_minor": 4
}
