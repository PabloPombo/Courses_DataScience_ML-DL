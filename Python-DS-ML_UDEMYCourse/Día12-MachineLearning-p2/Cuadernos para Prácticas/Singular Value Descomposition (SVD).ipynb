{
 "cells": [
  {
   "cell_type": "markdown",
   "id": "9b1442f9",
   "metadata": {},
   "source": [
    "# Singular Value Descomposition (SVD)\n",
    "\n",
    "### Fórmula base\n",
    "![](FormulaSVD.png)\n",
    "\n",
    "\n",
    "### Ejemplo\n",
    "![](a.png)![](u.png)![](sigma.png)![](vt.png)"
   ]
  },
  {
   "cell_type": "code",
   "execution_count": 1,
   "id": "913b468b",
   "metadata": {},
   "outputs": [],
   "source": [
    "import numpy as np \n",
    "from sklearn.datasets import load_iris\n",
    "import matplotlib.pyplot as plt"
   ]
  },
  {
   "cell_type": "code",
   "execution_count": 3,
   "id": "f32ac89c",
   "metadata": {},
   "outputs": [
    {
     "data": {
      "text/plain": [
       "array([[1, 2],\n",
       "       [3, 4],\n",
       "       [5, 6]])"
      ]
     },
     "execution_count": 3,
     "metadata": {},
     "output_type": "execute_result"
    }
   ],
   "source": [
    "A = np.array([[1,2],[3,4],[5,6]])\n",
    "A"
   ]
  },
  {
   "cell_type": "code",
   "execution_count": 4,
   "id": "01df09fc",
   "metadata": {},
   "outputs": [],
   "source": [
    "U, sigma, VT = np.linalg.svd(A)"
   ]
  },
  {
   "cell_type": "code",
   "execution_count": 5,
   "id": "27b7b570",
   "metadata": {},
   "outputs": [
    {
     "data": {
      "text/plain": [
       "array([[-0.2298477 ,  0.88346102,  0.40824829],\n",
       "       [-0.52474482,  0.24078249, -0.81649658],\n",
       "       [-0.81964194, -0.40189603,  0.40824829]])"
      ]
     },
     "execution_count": 5,
     "metadata": {},
     "output_type": "execute_result"
    }
   ],
   "source": [
    "U"
   ]
  },
  {
   "cell_type": "code",
   "execution_count": 6,
   "id": "f7327bf2",
   "metadata": {},
   "outputs": [
    {
     "data": {
      "text/plain": [
       "array([9.52551809, 0.51430058])"
      ]
     },
     "execution_count": 6,
     "metadata": {},
     "output_type": "execute_result"
    }
   ],
   "source": [
    "sigma"
   ]
  },
  {
   "cell_type": "code",
   "execution_count": 7,
   "id": "97109f74",
   "metadata": {},
   "outputs": [
    {
     "data": {
      "text/plain": [
       "array([[-0.61962948, -0.78489445],\n",
       "       [-0.78489445,  0.61962948]])"
      ]
     },
     "execution_count": 7,
     "metadata": {},
     "output_type": "execute_result"
    }
   ],
   "source": [
    "VT"
   ]
  },
  {
   "cell_type": "code",
   "execution_count": 8,
   "id": "080f7c2c",
   "metadata": {},
   "outputs": [],
   "source": [
    "iris = load_iris()"
   ]
  },
  {
   "cell_type": "code",
   "execution_count": 12,
   "id": "01234a77",
   "metadata": {},
   "outputs": [],
   "source": [
    "X = iris.data\n",
    "y = iris.target"
   ]
  },
  {
   "cell_type": "code",
   "execution_count": 14,
   "id": "fdfe10cc",
   "metadata": {},
   "outputs": [
    {
     "data": {
      "text/plain": [
       "array([[-7.43333333e-01,  4.42666667e-01, -2.35800000e+00,\n",
       "        -9.99333333e-01],\n",
       "       [-9.43333333e-01, -5.73333333e-02, -2.35800000e+00,\n",
       "        -9.99333333e-01],\n",
       "       [-1.14333333e+00,  1.42666667e-01, -2.45800000e+00,\n",
       "        -9.99333333e-01],\n",
       "       [-1.24333333e+00,  4.26666667e-02, -2.25800000e+00,\n",
       "        -9.99333333e-01],\n",
       "       [-8.43333333e-01,  5.42666667e-01, -2.35800000e+00,\n",
       "        -9.99333333e-01],\n",
       "       [-4.43333333e-01,  8.42666667e-01, -2.05800000e+00,\n",
       "        -7.99333333e-01],\n",
       "       [-1.24333333e+00,  3.42666667e-01, -2.35800000e+00,\n",
       "        -8.99333333e-01],\n",
       "       [-8.43333333e-01,  3.42666667e-01, -2.25800000e+00,\n",
       "        -9.99333333e-01],\n",
       "       [-1.44333333e+00, -1.57333333e-01, -2.35800000e+00,\n",
       "        -9.99333333e-01],\n",
       "       [-9.43333333e-01,  4.26666667e-02, -2.25800000e+00,\n",
       "        -1.09933333e+00],\n",
       "       [-4.43333333e-01,  6.42666667e-01, -2.25800000e+00,\n",
       "        -9.99333333e-01],\n",
       "       [-1.04333333e+00,  3.42666667e-01, -2.15800000e+00,\n",
       "        -9.99333333e-01],\n",
       "       [-1.04333333e+00, -5.73333333e-02, -2.35800000e+00,\n",
       "        -1.09933333e+00],\n",
       "       [-1.54333333e+00, -5.73333333e-02, -2.65800000e+00,\n",
       "        -1.09933333e+00],\n",
       "       [-4.33333333e-02,  9.42666667e-01, -2.55800000e+00,\n",
       "        -9.99333333e-01],\n",
       "       [-1.43333333e-01,  1.34266667e+00, -2.25800000e+00,\n",
       "        -7.99333333e-01],\n",
       "       [-4.43333333e-01,  8.42666667e-01, -2.45800000e+00,\n",
       "        -7.99333333e-01],\n",
       "       [-7.43333333e-01,  4.42666667e-01, -2.35800000e+00,\n",
       "        -8.99333333e-01],\n",
       "       [-1.43333333e-01,  7.42666667e-01, -2.05800000e+00,\n",
       "        -8.99333333e-01],\n",
       "       [-7.43333333e-01,  7.42666667e-01, -2.25800000e+00,\n",
       "        -8.99333333e-01],\n",
       "       [-4.43333333e-01,  3.42666667e-01, -2.05800000e+00,\n",
       "        -9.99333333e-01],\n",
       "       [-7.43333333e-01,  6.42666667e-01, -2.25800000e+00,\n",
       "        -7.99333333e-01],\n",
       "       [-1.24333333e+00,  5.42666667e-01, -2.75800000e+00,\n",
       "        -9.99333333e-01],\n",
       "       [-7.43333333e-01,  2.42666667e-01, -2.05800000e+00,\n",
       "        -6.99333333e-01],\n",
       "       [-1.04333333e+00,  3.42666667e-01, -1.85800000e+00,\n",
       "        -9.99333333e-01],\n",
       "       [-8.43333333e-01, -5.73333333e-02, -2.15800000e+00,\n",
       "        -9.99333333e-01],\n",
       "       [-8.43333333e-01,  3.42666667e-01, -2.15800000e+00,\n",
       "        -7.99333333e-01],\n",
       "       [-6.43333333e-01,  4.42666667e-01, -2.25800000e+00,\n",
       "        -9.99333333e-01],\n",
       "       [-6.43333333e-01,  3.42666667e-01, -2.35800000e+00,\n",
       "        -9.99333333e-01],\n",
       "       [-1.14333333e+00,  1.42666667e-01, -2.15800000e+00,\n",
       "        -9.99333333e-01],\n",
       "       [-1.04333333e+00,  4.26666667e-02, -2.15800000e+00,\n",
       "        -9.99333333e-01],\n",
       "       [-4.43333333e-01,  3.42666667e-01, -2.25800000e+00,\n",
       "        -7.99333333e-01],\n",
       "       [-6.43333333e-01,  1.04266667e+00, -2.25800000e+00,\n",
       "        -1.09933333e+00],\n",
       "       [-3.43333333e-01,  1.14266667e+00, -2.35800000e+00,\n",
       "        -9.99333333e-01],\n",
       "       [-9.43333333e-01,  4.26666667e-02, -2.25800000e+00,\n",
       "        -9.99333333e-01],\n",
       "       [-8.43333333e-01,  1.42666667e-01, -2.55800000e+00,\n",
       "        -9.99333333e-01],\n",
       "       [-3.43333333e-01,  4.42666667e-01, -2.45800000e+00,\n",
       "        -9.99333333e-01],\n",
       "       [-9.43333333e-01,  5.42666667e-01, -2.35800000e+00,\n",
       "        -1.09933333e+00],\n",
       "       [-1.44333333e+00, -5.73333333e-02, -2.45800000e+00,\n",
       "        -9.99333333e-01],\n",
       "       [-7.43333333e-01,  3.42666667e-01, -2.25800000e+00,\n",
       "        -9.99333333e-01],\n",
       "       [-8.43333333e-01,  4.42666667e-01, -2.45800000e+00,\n",
       "        -8.99333333e-01],\n",
       "       [-1.34333333e+00, -7.57333333e-01, -2.45800000e+00,\n",
       "        -8.99333333e-01],\n",
       "       [-1.44333333e+00,  1.42666667e-01, -2.45800000e+00,\n",
       "        -9.99333333e-01],\n",
       "       [-8.43333333e-01,  4.42666667e-01, -2.15800000e+00,\n",
       "        -5.99333333e-01],\n",
       "       [-7.43333333e-01,  7.42666667e-01, -1.85800000e+00,\n",
       "        -7.99333333e-01],\n",
       "       [-1.04333333e+00, -5.73333333e-02, -2.35800000e+00,\n",
       "        -8.99333333e-01],\n",
       "       [-7.43333333e-01,  7.42666667e-01, -2.15800000e+00,\n",
       "        -9.99333333e-01],\n",
       "       [-1.24333333e+00,  1.42666667e-01, -2.35800000e+00,\n",
       "        -9.99333333e-01],\n",
       "       [-5.43333333e-01,  6.42666667e-01, -2.25800000e+00,\n",
       "        -9.99333333e-01],\n",
       "       [-8.43333333e-01,  2.42666667e-01, -2.35800000e+00,\n",
       "        -9.99333333e-01],\n",
       "       [ 1.15666667e+00,  1.42666667e-01,  9.42000000e-01,\n",
       "         2.00666667e-01],\n",
       "       [ 5.56666667e-01,  1.42666667e-01,  7.42000000e-01,\n",
       "         3.00666667e-01],\n",
       "       [ 1.05666667e+00,  4.26666667e-02,  1.14200000e+00,\n",
       "         3.00666667e-01],\n",
       "       [-3.43333333e-01, -7.57333333e-01,  2.42000000e-01,\n",
       "         1.00666667e-01],\n",
       "       [ 6.56666667e-01, -2.57333333e-01,  8.42000000e-01,\n",
       "         3.00666667e-01],\n",
       "       [-1.43333333e-01, -2.57333333e-01,  7.42000000e-01,\n",
       "         1.00666667e-01],\n",
       "       [ 4.56666667e-01,  2.42666667e-01,  9.42000000e-01,\n",
       "         4.00666667e-01],\n",
       "       [-9.43333333e-01, -6.57333333e-01, -4.58000000e-01,\n",
       "        -1.99333333e-01],\n",
       "       [ 7.56666667e-01, -1.57333333e-01,  8.42000000e-01,\n",
       "         1.00666667e-01],\n",
       "       [-6.43333333e-01, -3.57333333e-01,  1.42000000e-01,\n",
       "         2.00666667e-01],\n",
       "       [-8.43333333e-01, -1.05733333e+00, -2.58000000e-01,\n",
       "        -1.99333333e-01],\n",
       "       [ 5.66666667e-02, -5.73333333e-02,  4.42000000e-01,\n",
       "         3.00666667e-01],\n",
       "       [ 1.56666667e-01, -8.57333333e-01,  2.42000000e-01,\n",
       "        -1.99333333e-01],\n",
       "       [ 2.56666667e-01, -1.57333333e-01,  9.42000000e-01,\n",
       "         2.00666667e-01],\n",
       "       [-2.43333333e-01, -1.57333333e-01, -1.58000000e-01,\n",
       "         1.00666667e-01],\n",
       "       [ 8.56666667e-01,  4.26666667e-02,  6.42000000e-01,\n",
       "         2.00666667e-01],\n",
       "       [-2.43333333e-01, -5.73333333e-02,  7.42000000e-01,\n",
       "         3.00666667e-01],\n",
       "       [-4.33333333e-02, -3.57333333e-01,  3.42000000e-01,\n",
       "        -1.99333333e-01],\n",
       "       [ 3.56666667e-01, -8.57333333e-01,  7.42000000e-01,\n",
       "         3.00666667e-01],\n",
       "       [-2.43333333e-01, -5.57333333e-01,  1.42000000e-01,\n",
       "        -9.93333333e-02],\n",
       "       [ 5.66666667e-02,  1.42666667e-01,  1.04200000e+00,\n",
       "         6.00666667e-01],\n",
       "       [ 2.56666667e-01, -2.57333333e-01,  2.42000000e-01,\n",
       "         1.00666667e-01],\n",
       "       [ 4.56666667e-01, -5.57333333e-01,  1.14200000e+00,\n",
       "         3.00666667e-01],\n",
       "       [ 2.56666667e-01, -2.57333333e-01,  9.42000000e-01,\n",
       "         6.66666667e-04],\n",
       "       [ 5.56666667e-01, -1.57333333e-01,  5.42000000e-01,\n",
       "         1.00666667e-01],\n",
       "       [ 7.56666667e-01, -5.73333333e-02,  6.42000000e-01,\n",
       "         2.00666667e-01],\n",
       "       [ 9.56666667e-01, -2.57333333e-01,  1.04200000e+00,\n",
       "         2.00666667e-01],\n",
       "       [ 8.56666667e-01, -5.73333333e-02,  1.24200000e+00,\n",
       "         5.00666667e-01],\n",
       "       [ 1.56666667e-01, -1.57333333e-01,  7.42000000e-01,\n",
       "         3.00666667e-01],\n",
       "       [-1.43333333e-01, -4.57333333e-01, -2.58000000e-01,\n",
       "        -1.99333333e-01],\n",
       "       [-3.43333333e-01, -6.57333333e-01,  4.20000000e-02,\n",
       "        -9.93333333e-02],\n",
       "       [-3.43333333e-01, -6.57333333e-01, -5.80000000e-02,\n",
       "        -1.99333333e-01],\n",
       "       [-4.33333333e-02, -3.57333333e-01,  1.42000000e-01,\n",
       "         6.66666667e-04],\n",
       "       [ 1.56666667e-01, -3.57333333e-01,  1.34200000e+00,\n",
       "         4.00666667e-01],\n",
       "       [-4.43333333e-01, -5.73333333e-02,  7.42000000e-01,\n",
       "         3.00666667e-01],\n",
       "       [ 1.56666667e-01,  3.42666667e-01,  7.42000000e-01,\n",
       "         4.00666667e-01],\n",
       "       [ 8.56666667e-01,  4.26666667e-02,  9.42000000e-01,\n",
       "         3.00666667e-01],\n",
       "       [ 4.56666667e-01, -7.57333333e-01,  6.42000000e-01,\n",
       "         1.00666667e-01],\n",
       "       [-2.43333333e-01, -5.73333333e-02,  3.42000000e-01,\n",
       "         1.00666667e-01],\n",
       "       [-3.43333333e-01, -5.57333333e-01,  2.42000000e-01,\n",
       "         1.00666667e-01],\n",
       "       [-3.43333333e-01, -4.57333333e-01,  6.42000000e-01,\n",
       "         6.66666667e-04],\n",
       "       [ 2.56666667e-01, -5.73333333e-02,  8.42000000e-01,\n",
       "         2.00666667e-01],\n",
       "       [-4.33333333e-02, -4.57333333e-01,  2.42000000e-01,\n",
       "         6.66666667e-04],\n",
       "       [-8.43333333e-01, -7.57333333e-01, -4.58000000e-01,\n",
       "        -1.99333333e-01],\n",
       "       [-2.43333333e-01, -3.57333333e-01,  4.42000000e-01,\n",
       "         1.00666667e-01],\n",
       "       [-1.43333333e-01, -5.73333333e-02,  4.42000000e-01,\n",
       "         6.66666667e-04],\n",
       "       [-1.43333333e-01, -1.57333333e-01,  4.42000000e-01,\n",
       "         1.00666667e-01],\n",
       "       [ 3.56666667e-01, -1.57333333e-01,  5.42000000e-01,\n",
       "         1.00666667e-01],\n",
       "       [-7.43333333e-01, -5.57333333e-01, -7.58000000e-01,\n",
       "        -9.93333333e-02],\n",
       "       [-1.43333333e-01, -2.57333333e-01,  3.42000000e-01,\n",
       "         1.00666667e-01],\n",
       "       [ 4.56666667e-01,  2.42666667e-01,  2.24200000e+00,\n",
       "         1.30066667e+00],\n",
       "       [-4.33333333e-02, -3.57333333e-01,  1.34200000e+00,\n",
       "         7.00666667e-01],\n",
       "       [ 1.25666667e+00, -5.73333333e-02,  2.14200000e+00,\n",
       "         9.00666667e-01],\n",
       "       [ 4.56666667e-01, -1.57333333e-01,  1.84200000e+00,\n",
       "         6.00666667e-01],\n",
       "       [ 6.56666667e-01, -5.73333333e-02,  2.04200000e+00,\n",
       "         1.00066667e+00],\n",
       "       [ 1.75666667e+00, -5.73333333e-02,  2.84200000e+00,\n",
       "         9.00666667e-01],\n",
       "       [-9.43333333e-01, -5.57333333e-01,  7.42000000e-01,\n",
       "         5.00666667e-01],\n",
       "       [ 1.45666667e+00, -1.57333333e-01,  2.54200000e+00,\n",
       "         6.00666667e-01],\n",
       "       [ 8.56666667e-01, -5.57333333e-01,  2.04200000e+00,\n",
       "         6.00666667e-01],\n",
       "       [ 1.35666667e+00,  5.42666667e-01,  2.34200000e+00,\n",
       "         1.30066667e+00],\n",
       "       [ 6.56666667e-01,  1.42666667e-01,  1.34200000e+00,\n",
       "         8.00666667e-01],\n",
       "       [ 5.56666667e-01, -3.57333333e-01,  1.54200000e+00,\n",
       "         7.00666667e-01],\n",
       "       [ 9.56666667e-01, -5.73333333e-02,  1.74200000e+00,\n",
       "         9.00666667e-01],\n",
       "       [-1.43333333e-01, -5.57333333e-01,  1.24200000e+00,\n",
       "         8.00666667e-01],\n",
       "       [-4.33333333e-02, -2.57333333e-01,  1.34200000e+00,\n",
       "         1.20066667e+00],\n",
       "       [ 5.56666667e-01,  1.42666667e-01,  1.54200000e+00,\n",
       "         1.10066667e+00],\n",
       "       [ 6.56666667e-01, -5.73333333e-02,  1.74200000e+00,\n",
       "         6.00666667e-01],\n",
       "       [ 1.85666667e+00,  7.42666667e-01,  2.94200000e+00,\n",
       "         1.00066667e+00],\n",
       "       [ 1.85666667e+00, -4.57333333e-01,  3.14200000e+00,\n",
       "         1.10066667e+00],\n",
       "       [ 1.56666667e-01, -8.57333333e-01,  1.24200000e+00,\n",
       "         3.00666667e-01],\n",
       "       [ 1.05666667e+00,  1.42666667e-01,  1.94200000e+00,\n",
       "         1.10066667e+00],\n",
       "       [-2.43333333e-01, -2.57333333e-01,  1.14200000e+00,\n",
       "         8.00666667e-01],\n",
       "       [ 1.85666667e+00, -2.57333333e-01,  2.94200000e+00,\n",
       "         8.00666667e-01],\n",
       "       [ 4.56666667e-01, -3.57333333e-01,  1.14200000e+00,\n",
       "         6.00666667e-01],\n",
       "       [ 8.56666667e-01,  2.42666667e-01,  1.94200000e+00,\n",
       "         9.00666667e-01],\n",
       "       [ 1.35666667e+00,  1.42666667e-01,  2.24200000e+00,\n",
       "         6.00666667e-01],\n",
       "       [ 3.56666667e-01, -2.57333333e-01,  1.04200000e+00,\n",
       "         6.00666667e-01],\n",
       "       [ 2.56666667e-01, -5.73333333e-02,  1.14200000e+00,\n",
       "         6.00666667e-01],\n",
       "       [ 5.56666667e-01, -2.57333333e-01,  1.84200000e+00,\n",
       "         9.00666667e-01],\n",
       "       [ 1.35666667e+00, -5.73333333e-02,  2.04200000e+00,\n",
       "         4.00666667e-01],\n",
       "       [ 1.55666667e+00, -2.57333333e-01,  2.34200000e+00,\n",
       "         7.00666667e-01],\n",
       "       [ 2.05666667e+00,  7.42666667e-01,  2.64200000e+00,\n",
       "         8.00666667e-01],\n",
       "       [ 5.56666667e-01, -2.57333333e-01,  1.84200000e+00,\n",
       "         1.00066667e+00],\n",
       "       [ 4.56666667e-01, -2.57333333e-01,  1.34200000e+00,\n",
       "         3.00666667e-01],\n",
       "       [ 2.56666667e-01, -4.57333333e-01,  1.84200000e+00,\n",
       "         2.00666667e-01],\n",
       "       [ 1.85666667e+00, -5.73333333e-02,  2.34200000e+00,\n",
       "         1.10066667e+00],\n",
       "       [ 4.56666667e-01,  3.42666667e-01,  1.84200000e+00,\n",
       "         1.20066667e+00],\n",
       "       [ 5.56666667e-01,  4.26666667e-02,  1.74200000e+00,\n",
       "         6.00666667e-01],\n",
       "       [ 1.56666667e-01, -5.73333333e-02,  1.04200000e+00,\n",
       "         6.00666667e-01],\n",
       "       [ 1.05666667e+00,  4.26666667e-02,  1.64200000e+00,\n",
       "         9.00666667e-01],\n",
       "       [ 8.56666667e-01,  4.26666667e-02,  1.84200000e+00,\n",
       "         1.20066667e+00],\n",
       "       [ 1.05666667e+00,  4.26666667e-02,  1.34200000e+00,\n",
       "         1.10066667e+00],\n",
       "       [-4.33333333e-02, -3.57333333e-01,  1.34200000e+00,\n",
       "         7.00666667e-01],\n",
       "       [ 9.56666667e-01,  1.42666667e-01,  2.14200000e+00,\n",
       "         1.10066667e+00],\n",
       "       [ 8.56666667e-01,  2.42666667e-01,  1.94200000e+00,\n",
       "         1.30066667e+00],\n",
       "       [ 8.56666667e-01, -5.73333333e-02,  1.44200000e+00,\n",
       "         1.10066667e+00],\n",
       "       [ 4.56666667e-01, -5.57333333e-01,  1.24200000e+00,\n",
       "         7.00666667e-01],\n",
       "       [ 6.56666667e-01, -5.73333333e-02,  1.44200000e+00,\n",
       "         8.00666667e-01],\n",
       "       [ 3.56666667e-01,  3.42666667e-01,  1.64200000e+00,\n",
       "         1.10066667e+00],\n",
       "       [ 5.66666667e-02, -5.73333333e-02,  1.34200000e+00,\n",
       "         6.00666667e-01]])"
      ]
     },
     "execution_count": 14,
     "metadata": {},
     "output_type": "execute_result"
    }
   ],
   "source": [
    "X_centrado = X - np.mean(X, axis=0)\n",
    "X_centrado"
   ]
  },
  {
   "cell_type": "code",
   "execution_count": 15,
   "id": "8b6e7df5",
   "metadata": {},
   "outputs": [],
   "source": [
    "U, sigma, VT = np.linalg.svd(X_centrado)"
   ]
  },
  {
   "cell_type": "code",
   "execution_count": 18,
   "id": "3aa2e7bb",
   "metadata": {},
   "outputs": [
    {
     "data": {
      "text/plain": [
       "array([[-1.06937444e-01, -5.31164840e-02,  8.17734010e-03, ...,\n",
       "         5.43380310e-02,  1.96438400e-03,  2.46978090e-03],\n",
       "       [-1.08133305e-01,  2.94357038e-02,  6.16531816e-02, ...,\n",
       "         5.12936114e-03,  8.48544595e-02,  5.83496936e-03],\n",
       "       [-1.15099407e-01,  2.41054172e-02, -5.24368218e-03, ...,\n",
       "         2.75184277e-02,  1.78604309e-01,  1.49419118e-01],\n",
       "       ...,\n",
       "       [ 7.02927688e-02, -1.31144057e-02, -3.82231512e-02, ...,\n",
       "         9.89532683e-01, -1.25488246e-02, -7.17729676e-04],\n",
       "       [ 7.57348450e-02, -1.93954931e-02, -2.11868549e-01, ...,\n",
       "        -1.41206665e-02,  9.52049996e-01, -2.32048811e-02],\n",
       "       [ 5.53860977e-02,  4.70071528e-02, -1.06310369e-01, ...,\n",
       "        -8.30595907e-04, -2.19201906e-02,  9.77300244e-01]])"
      ]
     },
     "execution_count": 18,
     "metadata": {},
     "output_type": "execute_result"
    }
   ],
   "source": [
    "U"
   ]
  },
  {
   "cell_type": "code",
   "execution_count": 19,
   "id": "82e6b88e",
   "metadata": {},
   "outputs": [
    {
     "data": {
      "text/plain": [
       "array([25.09996044,  6.01314738,  3.41368064,  1.88452351])"
      ]
     },
     "execution_count": 19,
     "metadata": {},
     "output_type": "execute_result"
    }
   ],
   "source": [
    "sigma"
   ]
  },
  {
   "cell_type": "code",
   "execution_count": 20,
   "id": "557bd871",
   "metadata": {},
   "outputs": [
    {
     "data": {
      "text/plain": [
       "array([[ 0.36138659, -0.08452251,  0.85667061,  0.3582892 ],\n",
       "       [-0.65658877, -0.73016143,  0.17337266,  0.07548102],\n",
       "       [ 0.58202985, -0.59791083, -0.07623608, -0.54583143],\n",
       "       [ 0.31548719, -0.3197231 , -0.47983899,  0.75365743]])"
      ]
     },
     "execution_count": 20,
     "metadata": {},
     "output_type": "execute_result"
    }
   ],
   "source": [
    "VT"
   ]
  },
  {
   "cell_type": "code",
   "execution_count": 23,
   "id": "b18ab04b",
   "metadata": {},
   "outputs": [],
   "source": [
    "k = 2\n",
    "X_transformado = U[:,:k] * sigma[:k]"
   ]
  },
  {
   "cell_type": "code",
   "execution_count": 29,
   "id": "3dcf1651",
   "metadata": {},
   "outputs": [],
   "source": [
    "especies = ['setosa', 'versicolor', 'virginica']"
   ]
  },
  {
   "cell_type": "code",
   "execution_count": 30,
   "id": "ca08ed1a",
   "metadata": {},
   "outputs": [
    {
     "data": {
      "image/png": "[encoded data removed]",
      "text/plain": [
       "<Figure size 800x600 with 1 Axes>"
      ]
     },
     "metadata": {},
     "output_type": "display_data"
    }
   ],
   "source": [
    "plt.figure(figsize=(8,6))\n",
    "for i in range (3):\n",
    "    plt.scatter(X_transformado[iris.target == i, 0],\n",
    "               X_transformado[iris.target == i, 1],\n",
    "               label = especies[i])\n"
   ]
  },
  {
   "cell_type": "code",
   "execution_count": 35,
   "id": "bd519546",
   "metadata": {},
   "outputs": [
    {
     "data": {
      "text/plain": [
       "[25.09996044218386, 6.013147382308733, 3.4136806391921004, 1.8845235082226928]"
      ]
     },
     "execution_count": 35,
     "metadata": {},
     "output_type": "execute_result"
    }
   ],
   "source": [
    "valores_singulares = sorted(sigma, reverse=True)\n",
    "valores_singulares "
   ]
  },
  {
   "cell_type": "code",
   "execution_count": null,
   "id": "1b05a18f",
   "metadata": {},
   "outputs": [],
   "source": []
  }
 ],
 "metadata": {
  "kernelspec": {
   "display_name": "Python 3 (ipykernel)",
   "language": "python",
   "name": "python3"
  },
  "language_info": {
   "codemirror_mode": {
    "name": "ipython",
    "version": 3
   },
   "file_extension": ".py",
   "mimetype": "text/x-python",
   "name": "python",
   "nbconvert_exporter": "python",
   "pygments_lexer": "ipython3",
   "version": "3.10.9"
  }
 },
 "nbformat": 4,
 "nbformat_minor": 5
}
