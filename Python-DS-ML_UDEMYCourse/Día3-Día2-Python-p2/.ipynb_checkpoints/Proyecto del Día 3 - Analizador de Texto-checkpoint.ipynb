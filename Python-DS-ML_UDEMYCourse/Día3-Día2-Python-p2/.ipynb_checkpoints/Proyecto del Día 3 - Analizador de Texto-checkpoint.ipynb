{
 "cells": [
  {
   "cell_type": "markdown",
   "id": "9572445f",
   "metadata": {},
   "source": [
    "# Proyecto del Día 3: Analizador de Texto\n",
    "\n",
    "Este proyecto tiene como objetivo aplicar los conceptos aprendidos sobre strings, input, indexación y formateo de strings en Python. El programa permitirá al usuario ingresar un texto y luego elegir realizar diversas operaciones de análisis sobre ese texto.\n",
    "\n",
    "## Consigna\n",
    "Vas a crear un programa que le pida al usuario que ingrese un texto de al menos 10 palabras. Tu programa va a procesar ese texto, lo va a procesar, y le va a devolver un análisis detallado, que incluya:\n",
    "1. Contar el número total de caracteres en el texto\n",
    "2. Contar el número de caracteres sin incluir los espacios\n",
    "3. Contar la cantidad de vocales que hay en el texto\n",
    "4. Contar el número total de palabras en el texto ingresado\n",
    "\n",
    "**nota**: para resolver los siguientes items, deberás investigar otros métodos de strings que no hemos visto. Recuerda valerte de *type*, *dir* y *help*\n",
    "\n",
    "5. Eliminar la primera palabra\n",
    "6. Reemplazar todos los espacios por guiones medios (-)\n",
    "8. Cambia las mayúsculas a minúsculas y las minúsculas a mayúsculas \n",
    "\n",
    "Al finalizar el procesamiento, se imprimirán 8 cadenas literales mostrando los resultados del análisis (una cadena por cada resultado).\n",
    "<br>\n",
    "<br>\n",
    "<br>"
   ]
  },
  {
   "cell_type": "markdown",
   "id": "e5cd9e4d",
   "metadata": {},
   "source": [
    "### Resolución\n",
    "\n",
    "Ingreso del usuario:"
   ]
  },
  {
   "cell_type": "code",
   "execution_count": 8,
   "id": "e424bc2d",
   "metadata": {},
   "outputs": [
    {
     "name": "stdout",
     "output_type": "stream",
     "text": [
      "ingresa 10 palabras de un textohola como estas yo bien y tu igual\n",
      "hola como estas yo bien y tu igual 34\n"
     ]
    }
   ],
   "source": [
    "texto = input(\"ingresa 10 palabras de un texto\")\n",
    "numero_caracteres = len(texto)\n",
    "print(texto, numero_caracteres) "
   ]
  },
  {
   "cell_type": "code",
   "execution_count": 9,
   "id": "e1472f1f",
   "metadata": {},
   "outputs": [
    {
     "name": "stdout",
     "output_type": "stream",
     "text": [
      "holacomoestasyobienytuigual 27\n"
     ]
    }
   ],
   "source": [
    "sin_espacios = texto.replace(\" \",\"\")\n",
    "no_sin_espacios = len(sin_espacios)\n",
    "print(sin_espacios, no_sin_espacios)"
   ]
  },
  {
   "cell_type": "code",
   "execution_count": 14,
   "id": "9bc87045",
   "metadata": {},
   "outputs": [
    {
     "name": "stdout",
     "output_type": "stream",
     "text": [
      "La vocal a se encuentra 3 veces en el texto\n",
      "La vocal e se encuentra 2 veces en el texto\n",
      "La vocal i se encuentra 2 veces en el texto\n",
      "La vocal o se encuentra 4 veces en el texto\n",
      "La vocal u se encuentra 2 veces en el texto\n"
     ]
    }
   ],
   "source": [
    "vocales = \"aeiou\"\n",
    "for item in vocales:\n",
    "    numero = texto.count(item)\n",
    "    print(f\"La vocal {item} se encuentra {numero} veces en el texto\")"
   ]
  },
  {
   "cell_type": "code",
   "execution_count": 16,
   "id": "1d41e60a",
   "metadata": {},
   "outputs": [
    {
     "data": {
      "text/plain": [
       "8"
      ]
     },
     "execution_count": 16,
     "metadata": {},
     "output_type": "execute_result"
    }
   ],
   "source": [
    "numero_palabras = len(texto.split())\n",
    "numero_palabras"
   ]
  },
  {
   "cell_type": "code",
   "execution_count": 34,
   "id": "6e7314b0",
   "metadata": {},
   "outputs": [
    {
     "data": {
      "text/plain": [
       "['como', 'estas', 'yo', 'bien', 'y', 'tu', 'igual']"
      ]
     },
     "execution_count": 34,
     "metadata": {},
     "output_type": "execute_result"
    }
   ],
   "source": [
    "lista = texto.split()\n",
    "lista.pop(0)\n",
    "lista"
   ]
  },
  {
   "cell_type": "code",
   "execution_count": 20,
   "id": "319dd5fb",
   "metadata": {},
   "outputs": [
    {
     "data": {
      "text/plain": [
       "'hola-como-estas-yo-bien-y-tu-igual'"
      ]
     },
     "execution_count": 20,
     "metadata": {},
     "output_type": "execute_result"
    }
   ],
   "source": [
    "espacios_guiones = texto.replace(\" \", \"-\")\n",
    "espacios_guiones"
   ]
  },
  {
   "cell_type": "code",
   "execution_count": 19,
   "id": "0d045d78",
   "metadata": {},
   "outputs": [
    {
     "data": {
      "text/plain": [
       "'HOLA COMO ESTAS YO BIEN Y TU IGUAL'"
      ]
     },
     "execution_count": 19,
     "metadata": {},
     "output_type": "execute_result"
    }
   ],
   "source": [
    "mayusculas_minusculas = texto.swapcase()\n",
    "mayusculas_minusculas"
   ]
  },
  {
   "cell_type": "code",
   "execution_count": 14,
   "id": "fa27da8c",
   "metadata": {},
   "outputs": [
    {
     "name": "stdout",
     "output_type": "stream",
     "text": [
      "Ingresa un texto de 10 palabras: Hola como estas seguimos aqui chambeando\n"
     ]
    }
   ],
   "source": [
    "texto = input(\"Ingresa un texto de 10 palabras: \")"
   ]
  },
  {
   "cell_type": "markdown",
   "id": "41214377",
   "metadata": {},
   "source": [
    "1. Contar el número total de caracteres en el texto"
   ]
  },
  {
   "cell_type": "code",
   "execution_count": 26,
   "id": "40448873",
   "metadata": {},
   "outputs": [
    {
     "data": {
      "text/plain": [
       "40"
      ]
     },
     "execution_count": 26,
     "metadata": {},
     "output_type": "execute_result"
    }
   ],
   "source": [
    "no_caracteres = len(texto)\n",
    "no_caracteres"
   ]
  },
  {
   "cell_type": "markdown",
   "id": "3d6378dc",
   "metadata": {},
   "source": [
    "2. Contar el número de caracteres sin incluir los espacios"
   ]
  },
  {
   "cell_type": "code",
   "execution_count": 28,
   "id": "991b29c7",
   "metadata": {},
   "outputs": [
    {
     "data": {
      "text/plain": [
       "35"
      ]
     },
     "execution_count": 28,
     "metadata": {},
     "output_type": "execute_result"
    }
   ],
   "source": [
    "no_espacios = texto.count(\" \")\n",
    "no_caracteres_sin_espacio= no_caracteres-no_espacios\n",
    "no_caracteres_sin_espacio"
   ]
  },
  {
   "cell_type": "markdown",
   "id": "c6e62385",
   "metadata": {},
   "source": [
    "3. Contar la cantidad de vocales que hay en el texto"
   ]
  },
  {
   "cell_type": "code",
   "execution_count": 29,
   "id": "65b19bc7",
   "metadata": {},
   "outputs": [
    {
     "data": {
      "text/plain": [
       "17"
      ]
     },
     "execution_count": 29,
     "metadata": {},
     "output_type": "execute_result"
    }
   ],
   "source": [
    "a =texto.count(\"a\")\n",
    "e= texto.count(\"e\")\n",
    "i= texto.count(\"i\")\n",
    "o= texto.count(\"o\")\n",
    "u= texto.count(\"u\")\n",
    "vocales = a+e+i+o+u\n",
    "vocales"
   ]
  },
  {
   "cell_type": "markdown",
   "id": "4b6211c5",
   "metadata": {},
   "source": [
    "4. Contar el número total de palabras en el texto ingresado"
   ]
  },
  {
   "cell_type": "code",
   "execution_count": 31,
   "id": "5b6eb1b1",
   "metadata": {},
   "outputs": [
    {
     "data": {
      "text/plain": [
       "6"
      ]
     },
     "execution_count": 31,
     "metadata": {},
     "output_type": "execute_result"
    }
   ],
   "source": [
    "palabras =len(texto.split())\n",
    "palabras"
   ]
  },
  {
   "cell_type": "markdown",
   "id": "bee5597e",
   "metadata": {},
   "source": [
    "5. Eliminar la primera palabra"
   ]
  },
  {
   "cell_type": "code",
   "execution_count": 53,
   "id": "8bcbfe9d",
   "metadata": {},
   "outputs": [
    {
     "data": {
      "text/plain": [
       "'como estas seguimos aqui chambeando'"
      ]
     },
     "execution_count": 53,
     "metadata": {},
     "output_type": "execute_result"
    }
   ],
   "source": [
    "primer_espacio=texto.find(\" \")\n",
    "sin_primer_palabra = texto[primer_espacio+1:]\n",
    "sin_primer_palabra"
   ]
  },
  {
   "cell_type": "markdown",
   "id": "d5b05440",
   "metadata": {},
   "source": [
    "6. Reemplazar todos los espacios por guiones medios (-)"
   ]
  },
  {
   "cell_type": "code",
   "execution_count": 36,
   "id": "90a21e61",
   "metadata": {},
   "outputs": [
    {
     "data": {
      "text/plain": [
       "'Hola-como-estas-seguimos-aqui-chambeando'"
      ]
     },
     "execution_count": 36,
     "metadata": {},
     "output_type": "execute_result"
    }
   ],
   "source": [
    "remplazo = texto.replace(\" \", \"-\")\n",
    "remplazo"
   ]
  },
  {
   "cell_type": "markdown",
   "id": "8a61c508",
   "metadata": {},
   "source": [
    "7. Cambia las mayúsculas a minúsculas y las minúsculas a mayúsculas"
   ]
  },
  {
   "cell_type": "code",
   "execution_count": 45,
   "id": "8cb35aaf",
   "metadata": {},
   "outputs": [
    {
     "data": {
      "text/plain": [
       "'hOLA COMO ESTAS SEGUIMOS AQUI CHAMBEANDO'"
      ]
     },
     "execution_count": 45,
     "metadata": {},
     "output_type": "execute_result"
    }
   ],
   "source": [
    "mayusculas= texto.swapcase()\n",
    "mayusculas"
   ]
  },
  {
   "cell_type": "markdown",
   "id": "66b8d816",
   "metadata": {},
   "source": [
    "Muéstrale al usuario los resultados del análisis de su texto."
   ]
  },
  {
   "cell_type": "code",
   "execution_count": null,
   "id": "eb0d449a",
   "metadata": {},
   "outputs": [],
   "source": []
  },
  {
   "cell_type": "code",
   "execution_count": null,
   "id": "5a916336",
   "metadata": {},
   "outputs": [],
   "source": []
  },
  {
   "cell_type": "code",
   "execution_count": null,
   "id": "ab48f272",
   "metadata": {},
   "outputs": [],
   "source": []
  }
 ],
 "metadata": {
  "kernelspec": {
   "display_name": "Python 3 (ipykernel)",
   "language": "python",
   "name": "python3"
  },
  "language_info": {
   "codemirror_mode": {
    "name": "ipython",
    "version": 3
   },
   "file_extension": ".py",
   "mimetype": "text/x-python",
   "name": "python",
   "nbconvert_exporter": "python",
   "pygments_lexer": "ipython3",
   "version": "3.10.9"
  }
 },
 "nbformat": 4,
 "nbformat_minor": 5
}
